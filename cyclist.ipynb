{
 "cells": [
  {
   "cell_type": "markdown",
   "metadata": {},
   "source": [
    "<h1>Case Study: How Does a Bike-Share Navigate Speedy Success?<h1>"
   ]
  },
  {
   "cell_type": "markdown",
   "metadata": {},
   "source": [
    "<h2>Business Task - Ask <h2>\n",
    "<h5>1. How do annual members and casual riders use Cyclistic bikes differently?</h5>\n",
    "<h5>2. Why would casual riders buy Cyclistic annual memberships?</h5>\n",
    "<h5>3. How can Cyclistic use digital media to influence casual riders to become members?</h5>"
   ]
  },
  {
   "cell_type": "markdown",
   "metadata": {},
   "source": [
    "<h1>Prepare<h1>"
   ]
  },
  {
   "cell_type": "code",
   "execution_count": 60,
   "metadata": {},
   "outputs": [],
   "source": [
    "import pandas as pd\n",
    "import numpy as np\n",
    "import matplotlib.pyplot as plt\n",
    "import seaborn as sns\n",
    "import datetime"
   ]
  },
  {
   "cell_type": "code",
   "execution_count": 61,
   "metadata": {},
   "outputs": [],
   "source": [
    "df = pd.read_csv(\"D:/omg/Project/Bike pj/Data/csv/all/bikeshare.csv\")"
   ]
  },
  {
   "cell_type": "code",
   "execution_count": 62,
   "metadata": {},
   "outputs": [
    {
     "name": "stdout",
     "output_type": "stream",
     "text": [
      "<class 'pandas.core.frame.DataFrame'>\n",
      "RangeIndex: 5823559 entries, 0 to 5823558\n",
      "Data columns (total 13 columns):\n",
      " #   Column              Dtype  \n",
      "---  ------              -----  \n",
      " 0   ride_id             object \n",
      " 1   rideable_type       object \n",
      " 2   started_at          object \n",
      " 3   ended_at            object \n",
      " 4   start_station_name  object \n",
      " 5   start_station_id    object \n",
      " 6   end_station_name    object \n",
      " 7   end_station_id      object \n",
      " 8   start_lat           float64\n",
      " 9   start_lng           float64\n",
      " 10  end_lat             float64\n",
      " 11  end_lng             float64\n",
      " 12  member_casual       object \n",
      "dtypes: float64(4), object(9)\n",
      "memory usage: 577.6+ MB\n"
     ]
    }
   ],
   "source": [
    "case_1=df\n",
    "case_1.info()"
   ]
  },
  {
   "cell_type": "code",
   "execution_count": 63,
   "metadata": {},
   "outputs": [
    {
     "data": {
      "text/plain": [
       "0    2021-08-06 16:43:01\n",
       "1    2021-08-20 22:15:26\n",
       "2    2021-08-17 19:30:18\n",
       "3    2021-08-08 12:25:38\n",
       "4    2021-08-28 17:12:28\n",
       "Name: started_at, dtype: object"
      ]
     },
     "execution_count": 63,
     "metadata": {},
     "output_type": "execute_result"
    }
   ],
   "source": [
    "case_1['started_at'].head()"
   ]
  },
  {
   "cell_type": "code",
   "execution_count": 64,
   "metadata": {},
   "outputs": [
    {
     "data": {
      "text/html": [
       "<div>\n",
       "<style scoped>\n",
       "    .dataframe tbody tr th:only-of-type {\n",
       "        vertical-align: middle;\n",
       "    }\n",
       "\n",
       "    .dataframe tbody tr th {\n",
       "        vertical-align: top;\n",
       "    }\n",
       "\n",
       "    .dataframe thead th {\n",
       "        text-align: right;\n",
       "    }\n",
       "</style>\n",
       "<table border=\"1\" class=\"dataframe\">\n",
       "  <thead>\n",
       "    <tr style=\"text-align: right;\">\n",
       "      <th></th>\n",
       "      <th>ride_id</th>\n",
       "      <th>rideable_type</th>\n",
       "      <th>started_at</th>\n",
       "      <th>ended_at</th>\n",
       "      <th>start_station_name</th>\n",
       "      <th>start_station_id</th>\n",
       "      <th>end_station_name</th>\n",
       "      <th>end_station_id</th>\n",
       "      <th>start_lat</th>\n",
       "      <th>start_lng</th>\n",
       "      <th>end_lat</th>\n",
       "      <th>end_lng</th>\n",
       "      <th>member_casual</th>\n",
       "    </tr>\n",
       "  </thead>\n",
       "  <tbody>\n",
       "    <tr>\n",
       "      <th>1344</th>\n",
       "      <td>86540D280FBBCCD0</td>\n",
       "      <td>electric_bike</td>\n",
       "      <td>2021-08-12 09:31:13</td>\n",
       "      <td>2021-08-12 09:39:04</td>\n",
       "      <td>NaN</td>\n",
       "      <td>NaN</td>\n",
       "      <td>NaN</td>\n",
       "      <td>NaN</td>\n",
       "      <td>41.93</td>\n",
       "      <td>-87.70</td>\n",
       "      <td>41.930000</td>\n",
       "      <td>-87.720000</td>\n",
       "      <td>member</td>\n",
       "    </tr>\n",
       "    <tr>\n",
       "      <th>1345</th>\n",
       "      <td>75784D0C49862E27</td>\n",
       "      <td>electric_bike</td>\n",
       "      <td>2021-08-12 04:22:33</td>\n",
       "      <td>2021-08-12 04:33:04</td>\n",
       "      <td>NaN</td>\n",
       "      <td>NaN</td>\n",
       "      <td>NaN</td>\n",
       "      <td>NaN</td>\n",
       "      <td>41.93</td>\n",
       "      <td>-87.72</td>\n",
       "      <td>41.940000</td>\n",
       "      <td>-87.700000</td>\n",
       "      <td>member</td>\n",
       "    </tr>\n",
       "    <tr>\n",
       "      <th>1346</th>\n",
       "      <td>A3DA6E3FE1C5F7EE</td>\n",
       "      <td>electric_bike</td>\n",
       "      <td>2021-08-12 11:56:58</td>\n",
       "      <td>2021-08-12 12:04:56</td>\n",
       "      <td>NaN</td>\n",
       "      <td>NaN</td>\n",
       "      <td>NaN</td>\n",
       "      <td>NaN</td>\n",
       "      <td>41.85</td>\n",
       "      <td>-87.69</td>\n",
       "      <td>41.870000</td>\n",
       "      <td>-87.690000</td>\n",
       "      <td>member</td>\n",
       "    </tr>\n",
       "    <tr>\n",
       "      <th>1347</th>\n",
       "      <td>C691D7F342C68DC7</td>\n",
       "      <td>electric_bike</td>\n",
       "      <td>2021-08-14 08:27:17</td>\n",
       "      <td>2021-08-14 09:36:25</td>\n",
       "      <td>NaN</td>\n",
       "      <td>NaN</td>\n",
       "      <td>NaN</td>\n",
       "      <td>NaN</td>\n",
       "      <td>41.92</td>\n",
       "      <td>-87.72</td>\n",
       "      <td>41.930000</td>\n",
       "      <td>-87.720000</td>\n",
       "      <td>member</td>\n",
       "    </tr>\n",
       "    <tr>\n",
       "      <th>1348</th>\n",
       "      <td>AE1F8E04BFAA4679</td>\n",
       "      <td>electric_bike</td>\n",
       "      <td>2021-08-18 11:12:57</td>\n",
       "      <td>2021-08-18 11:18:06</td>\n",
       "      <td>NaN</td>\n",
       "      <td>NaN</td>\n",
       "      <td>NaN</td>\n",
       "      <td>NaN</td>\n",
       "      <td>41.93</td>\n",
       "      <td>-87.77</td>\n",
       "      <td>41.930000</td>\n",
       "      <td>-87.760000</td>\n",
       "      <td>member</td>\n",
       "    </tr>\n",
       "    <tr>\n",
       "      <th>...</th>\n",
       "      <td>...</td>\n",
       "      <td>...</td>\n",
       "      <td>...</td>\n",
       "      <td>...</td>\n",
       "      <td>...</td>\n",
       "      <td>...</td>\n",
       "      <td>...</td>\n",
       "      <td>...</td>\n",
       "      <td>...</td>\n",
       "      <td>...</td>\n",
       "      <td>...</td>\n",
       "      <td>...</td>\n",
       "      <td>...</td>\n",
       "    </tr>\n",
       "    <tr>\n",
       "      <th>5823554</th>\n",
       "      <td>8BE00C2F370D1D6D</td>\n",
       "      <td>electric_bike</td>\n",
       "      <td>2021-12-16 17:26:59</td>\n",
       "      <td>2021-12-16 17:59:56</td>\n",
       "      <td>NaN</td>\n",
       "      <td>NaN</td>\n",
       "      <td>St. Clair St &amp; Erie St</td>\n",
       "      <td>13016</td>\n",
       "      <td>41.90</td>\n",
       "      <td>-87.69</td>\n",
       "      <td>41.894345</td>\n",
       "      <td>-87.622798</td>\n",
       "      <td>member</td>\n",
       "    </tr>\n",
       "    <tr>\n",
       "      <th>5823555</th>\n",
       "      <td>76B025B169CF0B3F</td>\n",
       "      <td>electric_bike</td>\n",
       "      <td>2021-12-14 08:32:59</td>\n",
       "      <td>2021-12-14 08:43:21</td>\n",
       "      <td>NaN</td>\n",
       "      <td>NaN</td>\n",
       "      <td>St. Clair St &amp; Erie St</td>\n",
       "      <td>13016</td>\n",
       "      <td>41.89</td>\n",
       "      <td>-87.64</td>\n",
       "      <td>41.894345</td>\n",
       "      <td>-87.622798</td>\n",
       "      <td>member</td>\n",
       "    </tr>\n",
       "    <tr>\n",
       "      <th>5823556</th>\n",
       "      <td>AE8BC510B940E6D2</td>\n",
       "      <td>electric_bike</td>\n",
       "      <td>2021-12-14 16:28:28</td>\n",
       "      <td>2021-12-14 16:33:22</td>\n",
       "      <td>NaN</td>\n",
       "      <td>NaN</td>\n",
       "      <td>Wolcott (Ravenswood) Ave &amp; Montrose Ave</td>\n",
       "      <td>TA1307000144</td>\n",
       "      <td>41.96</td>\n",
       "      <td>-87.69</td>\n",
       "      <td>41.961406</td>\n",
       "      <td>-87.676169</td>\n",
       "      <td>member</td>\n",
       "    </tr>\n",
       "    <tr>\n",
       "      <th>5823557</th>\n",
       "      <td>95F287715B3287AD</td>\n",
       "      <td>electric_bike</td>\n",
       "      <td>2021-12-09 08:10:18</td>\n",
       "      <td>2021-12-09 08:41:44</td>\n",
       "      <td>NaN</td>\n",
       "      <td>NaN</td>\n",
       "      <td>Damen Ave &amp; Walnut (Lake) St</td>\n",
       "      <td>KA17018054</td>\n",
       "      <td>41.96</td>\n",
       "      <td>-87.71</td>\n",
       "      <td>41.886106</td>\n",
       "      <td>-87.676828</td>\n",
       "      <td>member</td>\n",
       "    </tr>\n",
       "    <tr>\n",
       "      <th>5823558</th>\n",
       "      <td>F72E875F6D892B57</td>\n",
       "      <td>electric_bike</td>\n",
       "      <td>2021-12-17 14:04:05</td>\n",
       "      <td>2021-12-17 14:10:08</td>\n",
       "      <td>NaN</td>\n",
       "      <td>NaN</td>\n",
       "      <td>Kedzie Ave &amp; Milwaukee Ave</td>\n",
       "      <td>13085</td>\n",
       "      <td>41.93</td>\n",
       "      <td>-87.72</td>\n",
       "      <td>41.929567</td>\n",
       "      <td>-87.707857</td>\n",
       "      <td>member</td>\n",
       "    </tr>\n",
       "  </tbody>\n",
       "</table>\n",
       "<p>705657 rows × 13 columns</p>\n",
       "</div>"
      ],
      "text/plain": [
       "                  ride_id  rideable_type           started_at  \\\n",
       "1344     86540D280FBBCCD0  electric_bike  2021-08-12 09:31:13   \n",
       "1345     75784D0C49862E27  electric_bike  2021-08-12 04:22:33   \n",
       "1346     A3DA6E3FE1C5F7EE  electric_bike  2021-08-12 11:56:58   \n",
       "1347     C691D7F342C68DC7  electric_bike  2021-08-14 08:27:17   \n",
       "1348     AE1F8E04BFAA4679  electric_bike  2021-08-18 11:12:57   \n",
       "...                   ...            ...                  ...   \n",
       "5823554  8BE00C2F370D1D6D  electric_bike  2021-12-16 17:26:59   \n",
       "5823555  76B025B169CF0B3F  electric_bike  2021-12-14 08:32:59   \n",
       "5823556  AE8BC510B940E6D2  electric_bike  2021-12-14 16:28:28   \n",
       "5823557  95F287715B3287AD  electric_bike  2021-12-09 08:10:18   \n",
       "5823558  F72E875F6D892B57  electric_bike  2021-12-17 14:04:05   \n",
       "\n",
       "                    ended_at start_station_name start_station_id  \\\n",
       "1344     2021-08-12 09:39:04                NaN              NaN   \n",
       "1345     2021-08-12 04:33:04                NaN              NaN   \n",
       "1346     2021-08-12 12:04:56                NaN              NaN   \n",
       "1347     2021-08-14 09:36:25                NaN              NaN   \n",
       "1348     2021-08-18 11:18:06                NaN              NaN   \n",
       "...                      ...                ...              ...   \n",
       "5823554  2021-12-16 17:59:56                NaN              NaN   \n",
       "5823555  2021-12-14 08:43:21                NaN              NaN   \n",
       "5823556  2021-12-14 16:33:22                NaN              NaN   \n",
       "5823557  2021-12-09 08:41:44                NaN              NaN   \n",
       "5823558  2021-12-17 14:10:08                NaN              NaN   \n",
       "\n",
       "                                end_station_name end_station_id  start_lat  \\\n",
       "1344                                         NaN            NaN      41.93   \n",
       "1345                                         NaN            NaN      41.93   \n",
       "1346                                         NaN            NaN      41.85   \n",
       "1347                                         NaN            NaN      41.92   \n",
       "1348                                         NaN            NaN      41.93   \n",
       "...                                          ...            ...        ...   \n",
       "5823554                   St. Clair St & Erie St          13016      41.90   \n",
       "5823555                   St. Clair St & Erie St          13016      41.89   \n",
       "5823556  Wolcott (Ravenswood) Ave & Montrose Ave   TA1307000144      41.96   \n",
       "5823557             Damen Ave & Walnut (Lake) St     KA17018054      41.96   \n",
       "5823558               Kedzie Ave & Milwaukee Ave          13085      41.93   \n",
       "\n",
       "         start_lng    end_lat    end_lng member_casual  \n",
       "1344        -87.70  41.930000 -87.720000        member  \n",
       "1345        -87.72  41.940000 -87.700000        member  \n",
       "1346        -87.69  41.870000 -87.690000        member  \n",
       "1347        -87.72  41.930000 -87.720000        member  \n",
       "1348        -87.77  41.930000 -87.760000        member  \n",
       "...            ...        ...        ...           ...  \n",
       "5823554     -87.69  41.894345 -87.622798        member  \n",
       "5823555     -87.64  41.894345 -87.622798        member  \n",
       "5823556     -87.69  41.961406 -87.676169        member  \n",
       "5823557     -87.71  41.886106 -87.676828        member  \n",
       "5823558     -87.72  41.929567 -87.707857        member  \n",
       "\n",
       "[705657 rows x 13 columns]"
      ]
     },
     "execution_count": 64,
     "metadata": {},
     "output_type": "execute_result"
    }
   ],
   "source": [
    "key = case_1[\"start_station_name\"].isnull()\n",
    "df_NA = case_1.loc[key]\n",
    "df_NA"
   ]
  },
  {
   "cell_type": "code",
   "execution_count": 65,
   "metadata": {},
   "outputs": [
    {
     "data": {
      "text/html": [
       "<div>\n",
       "<style scoped>\n",
       "    .dataframe tbody tr th:only-of-type {\n",
       "        vertical-align: middle;\n",
       "    }\n",
       "\n",
       "    .dataframe tbody tr th {\n",
       "        vertical-align: top;\n",
       "    }\n",
       "\n",
       "    .dataframe thead th {\n",
       "        text-align: right;\n",
       "    }\n",
       "</style>\n",
       "<table border=\"1\" class=\"dataframe\">\n",
       "  <thead>\n",
       "    <tr style=\"text-align: right;\">\n",
       "      <th></th>\n",
       "      <th>ride_id</th>\n",
       "      <th>rideable_type</th>\n",
       "      <th>started_at</th>\n",
       "      <th>ended_at</th>\n",
       "      <th>start_station_name</th>\n",
       "      <th>start_station_id</th>\n",
       "      <th>end_station_name</th>\n",
       "      <th>end_station_id</th>\n",
       "      <th>start_lat</th>\n",
       "      <th>start_lng</th>\n",
       "      <th>end_lat</th>\n",
       "      <th>end_lng</th>\n",
       "      <th>member_casual</th>\n",
       "    </tr>\n",
       "  </thead>\n",
       "  <tbody>\n",
       "    <tr>\n",
       "      <th>0</th>\n",
       "      <td>A5AF35CB4C40C386</td>\n",
       "      <td>electric_bike</td>\n",
       "      <td>2021-08-06 16:43:01</td>\n",
       "      <td>2021-08-06 16:51:21</td>\n",
       "      <td>Bernard St &amp; Elston Ave</td>\n",
       "      <td>18016</td>\n",
       "      <td>Kildare Ave &amp; Montrose Ave</td>\n",
       "      <td>KA1706005015</td>\n",
       "      <td>41.949953</td>\n",
       "      <td>-87.713994</td>\n",
       "      <td>41.961018</td>\n",
       "      <td>-87.735652</td>\n",
       "      <td>casual</td>\n",
       "    </tr>\n",
       "    <tr>\n",
       "      <th>1</th>\n",
       "      <td>06A7BEB1B7E25E45</td>\n",
       "      <td>classic_bike</td>\n",
       "      <td>2021-08-20 22:15:26</td>\n",
       "      <td>2021-08-20 22:37:28</td>\n",
       "      <td>Glenwood Ave &amp; Touhy Ave</td>\n",
       "      <td>525</td>\n",
       "      <td>Broadway &amp; Ridge Ave</td>\n",
       "      <td>15578</td>\n",
       "      <td>42.012701</td>\n",
       "      <td>-87.666058</td>\n",
       "      <td>41.984045</td>\n",
       "      <td>-87.660274</td>\n",
       "      <td>member</td>\n",
       "    </tr>\n",
       "    <tr>\n",
       "      <th>2</th>\n",
       "      <td>D06866592603F067</td>\n",
       "      <td>classic_bike</td>\n",
       "      <td>2021-08-17 19:30:18</td>\n",
       "      <td>2021-08-17 19:43:55</td>\n",
       "      <td>Glenwood Ave &amp; Touhy Ave</td>\n",
       "      <td>525</td>\n",
       "      <td>Western Ave &amp; Howard St</td>\n",
       "      <td>527</td>\n",
       "      <td>42.012701</td>\n",
       "      <td>-87.666058</td>\n",
       "      <td>42.018901</td>\n",
       "      <td>-87.690048</td>\n",
       "      <td>casual</td>\n",
       "    </tr>\n",
       "    <tr>\n",
       "      <th>3</th>\n",
       "      <td>95B45E9C0877BD63</td>\n",
       "      <td>classic_bike</td>\n",
       "      <td>2021-08-08 12:25:38</td>\n",
       "      <td>2021-08-08 12:44:17</td>\n",
       "      <td>Glenwood Ave &amp; Touhy Ave</td>\n",
       "      <td>525</td>\n",
       "      <td>Broadway &amp; Berwyn Ave</td>\n",
       "      <td>13109</td>\n",
       "      <td>42.012701</td>\n",
       "      <td>-87.666058</td>\n",
       "      <td>41.978353</td>\n",
       "      <td>-87.659753</td>\n",
       "      <td>member</td>\n",
       "    </tr>\n",
       "    <tr>\n",
       "      <th>4</th>\n",
       "      <td>C36DA61E9C306925</td>\n",
       "      <td>classic_bike</td>\n",
       "      <td>2021-08-28 17:12:28</td>\n",
       "      <td>2021-08-28 17:29:19</td>\n",
       "      <td>Glenwood Ave &amp; Touhy Ave</td>\n",
       "      <td>525</td>\n",
       "      <td>Broadway &amp; Ridge Ave</td>\n",
       "      <td>15578</td>\n",
       "      <td>42.012701</td>\n",
       "      <td>-87.666058</td>\n",
       "      <td>41.984045</td>\n",
       "      <td>-87.660274</td>\n",
       "      <td>member</td>\n",
       "    </tr>\n",
       "  </tbody>\n",
       "</table>\n",
       "</div>"
      ],
      "text/plain": [
       "            ride_id  rideable_type          started_at             ended_at  \\\n",
       "0  A5AF35CB4C40C386  electric_bike 2021-08-06 16:43:01  2021-08-06 16:51:21   \n",
       "1  06A7BEB1B7E25E45   classic_bike 2021-08-20 22:15:26  2021-08-20 22:37:28   \n",
       "2  D06866592603F067   classic_bike 2021-08-17 19:30:18  2021-08-17 19:43:55   \n",
       "3  95B45E9C0877BD63   classic_bike 2021-08-08 12:25:38  2021-08-08 12:44:17   \n",
       "4  C36DA61E9C306925   classic_bike 2021-08-28 17:12:28  2021-08-28 17:29:19   \n",
       "\n",
       "         start_station_name start_station_id            end_station_name  \\\n",
       "0   Bernard St & Elston Ave            18016  Kildare Ave & Montrose Ave   \n",
       "1  Glenwood Ave & Touhy Ave              525        Broadway & Ridge Ave   \n",
       "2  Glenwood Ave & Touhy Ave              525     Western Ave & Howard St   \n",
       "3  Glenwood Ave & Touhy Ave              525       Broadway & Berwyn Ave   \n",
       "4  Glenwood Ave & Touhy Ave              525        Broadway & Ridge Ave   \n",
       "\n",
       "  end_station_id  start_lat  start_lng    end_lat    end_lng member_casual  \n",
       "0   KA1706005015  41.949953 -87.713994  41.961018 -87.735652        casual  \n",
       "1          15578  42.012701 -87.666058  41.984045 -87.660274        member  \n",
       "2            527  42.012701 -87.666058  42.018901 -87.690048        casual  \n",
       "3          13109  42.012701 -87.666058  41.978353 -87.659753        member  \n",
       "4          15578  42.012701 -87.666058  41.984045 -87.660274        member  "
      ]
     },
     "execution_count": 65,
     "metadata": {},
     "output_type": "execute_result"
    }
   ],
   "source": [
    "#convert to datetime\n",
    "case_1['started_at']= pd.to_datetime(case_1['started_at'])\n",
    "case_1.head()"
   ]
  },
  {
   "cell_type": "code",
   "execution_count": 66,
   "metadata": {},
   "outputs": [],
   "source": [
    "#finding the weekday\n",
    "case_1['week_day'] = case_1['started_at'].apply(lambda x:x.weekday())"
   ]
  },
  {
   "cell_type": "code",
   "execution_count": 67,
   "metadata": {},
   "outputs": [
    {
     "data": {
      "text/plain": [
       "0    Thursday\n",
       "1    Thursday\n",
       "2      Monday\n",
       "3    Saturday\n",
       "4      Friday\n",
       "Name: week_day, dtype: object"
      ]
     },
     "execution_count": 67,
     "metadata": {},
     "output_type": "execute_result"
    }
   ],
   "source": [
    "dict1= {0: 'Sunday', 1:'Monday', 2:'Tuesday', 3:'Wednesday', 4:'Thursday', 5: 'Friday', 6:'Saturday'}\n",
    "case_1['week_day']=case_1['week_day'].apply(lambda y: dict1[y])\n",
    "case_1['week_day'].head()"
   ]
  },
  {
   "cell_type": "code",
   "execution_count": 68,
   "metadata": {},
   "outputs": [],
   "source": [
    "#sort values by start time\n",
    "case_1.sort_values(by=['started_at'], inplace = True, ascending=True)"
   ]
  },
  {
   "cell_type": "code",
   "execution_count": 69,
   "metadata": {},
   "outputs": [],
   "source": [
    "case_1['ended_at']= pd.to_datetime(case_1['ended_at'])\n",
    "case_1['ride_length']= (case_1['ended_at'] - case_1['started_at']) / datetime.timedelta(minutes=1)\n"
   ]
  },
  {
   "cell_type": "code",
   "execution_count": 70,
   "metadata": {},
   "outputs": [
    {
     "name": "stdout",
     "output_type": "stream",
     "text": [
      "<class 'pandas.core.frame.DataFrame'>\n",
      "Int64Index: 5823559 entries, 3100833 to 5702762\n",
      "Data columns (total 15 columns):\n",
      " #   Column              Dtype         \n",
      "---  ------              -----         \n",
      " 0   ride_id             object        \n",
      " 1   rideable_type       object        \n",
      " 2   started_at          datetime64[ns]\n",
      " 3   ended_at            datetime64[ns]\n",
      " 4   start_station_name  object        \n",
      " 5   start_station_id    object        \n",
      " 6   end_station_name    object        \n",
      " 7   end_station_id      object        \n",
      " 8   start_lat           float64       \n",
      " 9   start_lng           float64       \n",
      " 10  end_lat             float64       \n",
      " 11  end_lng             float64       \n",
      " 12  member_casual       object        \n",
      " 13  week_day            object        \n",
      " 14  ride_length         float64       \n",
      "dtypes: datetime64[ns](2), float64(5), object(8)\n",
      "memory usage: 710.9+ MB\n"
     ]
    }
   ],
   "source": [
    "case_1.info()"
   ]
  },
  {
   "cell_type": "code",
   "execution_count": 71,
   "metadata": {},
   "outputs": [
    {
     "data": {
      "text/html": [
       "<div>\n",
       "<style scoped>\n",
       "    .dataframe tbody tr th:only-of-type {\n",
       "        vertical-align: middle;\n",
       "    }\n",
       "\n",
       "    .dataframe tbody tr th {\n",
       "        vertical-align: top;\n",
       "    }\n",
       "\n",
       "    .dataframe thead th {\n",
       "        text-align: right;\n",
       "    }\n",
       "</style>\n",
       "<table border=\"1\" class=\"dataframe\">\n",
       "  <thead>\n",
       "    <tr style=\"text-align: right;\">\n",
       "      <th></th>\n",
       "      <th>ride_id</th>\n",
       "      <th>rideable_type</th>\n",
       "      <th>started_at</th>\n",
       "      <th>ended_at</th>\n",
       "      <th>start_station_name</th>\n",
       "      <th>start_station_id</th>\n",
       "      <th>end_station_name</th>\n",
       "      <th>end_station_id</th>\n",
       "      <th>start_lat</th>\n",
       "      <th>start_lng</th>\n",
       "      <th>end_lat</th>\n",
       "      <th>end_lng</th>\n",
       "      <th>member_casual</th>\n",
       "      <th>week_day</th>\n",
       "      <th>ride_length</th>\n",
       "    </tr>\n",
       "  </thead>\n",
       "  <tbody>\n",
       "    <tr>\n",
       "      <th>3100833</th>\n",
       "      <td>A3F8D895163BBB49</td>\n",
       "      <td>electric_bike</td>\n",
       "      <td>2021-01-01 00:02:05</td>\n",
       "      <td>2021-01-01 00:12:39</td>\n",
       "      <td>NaN</td>\n",
       "      <td>NaN</td>\n",
       "      <td>NaN</td>\n",
       "      <td>NaN</td>\n",
       "      <td>41.980000</td>\n",
       "      <td>-87.650000</td>\n",
       "      <td>41.980000</td>\n",
       "      <td>-87.660000</td>\n",
       "      <td>member</td>\n",
       "      <td>Thursday</td>\n",
       "      <td>10.566667</td>\n",
       "    </tr>\n",
       "    <tr>\n",
       "      <th>3317955</th>\n",
       "      <td>0D139A3203274B87</td>\n",
       "      <td>classic_bike</td>\n",
       "      <td>2021-01-01 00:02:24</td>\n",
       "      <td>2021-01-01 00:08:39</td>\n",
       "      <td>State St &amp; 33rd St</td>\n",
       "      <td>13216</td>\n",
       "      <td>MLK Jr Dr &amp; 29th St</td>\n",
       "      <td>TA1307000139</td>\n",
       "      <td>41.834734</td>\n",
       "      <td>-87.625813</td>\n",
       "      <td>41.842052</td>\n",
       "      <td>-87.617000</td>\n",
       "      <td>member</td>\n",
       "      <td>Thursday</td>\n",
       "      <td>6.250000</td>\n",
       "    </tr>\n",
       "    <tr>\n",
       "      <th>1635171</th>\n",
       "      <td>C7AE8E9CDB197A8E</td>\n",
       "      <td>classic_bike</td>\n",
       "      <td>2021-01-01 00:06:55</td>\n",
       "      <td>2021-01-01 00:26:36</td>\n",
       "      <td>Lakeview Ave &amp; Fullerton Pkwy</td>\n",
       "      <td>TA1309000019</td>\n",
       "      <td>Ritchie Ct &amp; Banks St</td>\n",
       "      <td>KA1504000134</td>\n",
       "      <td>41.925858</td>\n",
       "      <td>-87.638973</td>\n",
       "      <td>41.906866</td>\n",
       "      <td>-87.626217</td>\n",
       "      <td>member</td>\n",
       "      <td>Thursday</td>\n",
       "      <td>19.683333</td>\n",
       "    </tr>\n",
       "    <tr>\n",
       "      <th>1377821</th>\n",
       "      <td>2633EB2B8A99F5CB</td>\n",
       "      <td>electric_bike</td>\n",
       "      <td>2021-01-01 00:12:13</td>\n",
       "      <td>2021-01-01 00:20:06</td>\n",
       "      <td>Kedzie Ave &amp; Milwaukee Ave</td>\n",
       "      <td>13085</td>\n",
       "      <td>NaN</td>\n",
       "      <td>NaN</td>\n",
       "      <td>41.929528</td>\n",
       "      <td>-87.707899</td>\n",
       "      <td>41.920000</td>\n",
       "      <td>-87.720000</td>\n",
       "      <td>member</td>\n",
       "      <td>Thursday</td>\n",
       "      <td>7.883333</td>\n",
       "    </tr>\n",
       "    <tr>\n",
       "      <th>1377691</th>\n",
       "      <td>3097EF26414C7016</td>\n",
       "      <td>classic_bike</td>\n",
       "      <td>2021-01-01 00:12:21</td>\n",
       "      <td>2021-01-01 00:12:33</td>\n",
       "      <td>Montrose Harbor</td>\n",
       "      <td>TA1308000012</td>\n",
       "      <td>Montrose Harbor</td>\n",
       "      <td>TA1308000012</td>\n",
       "      <td>41.963982</td>\n",
       "      <td>-87.638181</td>\n",
       "      <td>41.963982</td>\n",
       "      <td>-87.638181</td>\n",
       "      <td>member</td>\n",
       "      <td>Thursday</td>\n",
       "      <td>0.200000</td>\n",
       "    </tr>\n",
       "  </tbody>\n",
       "</table>\n",
       "</div>"
      ],
      "text/plain": [
       "                  ride_id  rideable_type          started_at  \\\n",
       "3100833  A3F8D895163BBB49  electric_bike 2021-01-01 00:02:05   \n",
       "3317955  0D139A3203274B87   classic_bike 2021-01-01 00:02:24   \n",
       "1635171  C7AE8E9CDB197A8E   classic_bike 2021-01-01 00:06:55   \n",
       "1377821  2633EB2B8A99F5CB  electric_bike 2021-01-01 00:12:13   \n",
       "1377691  3097EF26414C7016   classic_bike 2021-01-01 00:12:21   \n",
       "\n",
       "                   ended_at             start_station_name start_station_id  \\\n",
       "3100833 2021-01-01 00:12:39                            NaN              NaN   \n",
       "3317955 2021-01-01 00:08:39             State St & 33rd St            13216   \n",
       "1635171 2021-01-01 00:26:36  Lakeview Ave & Fullerton Pkwy     TA1309000019   \n",
       "1377821 2021-01-01 00:20:06     Kedzie Ave & Milwaukee Ave            13085   \n",
       "1377691 2021-01-01 00:12:33                Montrose Harbor     TA1308000012   \n",
       "\n",
       "              end_station_name end_station_id  start_lat  start_lng  \\\n",
       "3100833                    NaN            NaN  41.980000 -87.650000   \n",
       "3317955    MLK Jr Dr & 29th St   TA1307000139  41.834734 -87.625813   \n",
       "1635171  Ritchie Ct & Banks St   KA1504000134  41.925858 -87.638973   \n",
       "1377821                    NaN            NaN  41.929528 -87.707899   \n",
       "1377691        Montrose Harbor   TA1308000012  41.963982 -87.638181   \n",
       "\n",
       "           end_lat    end_lng member_casual  week_day  ride_length  \n",
       "3100833  41.980000 -87.660000        member  Thursday    10.566667  \n",
       "3317955  41.842052 -87.617000        member  Thursday     6.250000  \n",
       "1635171  41.906866 -87.626217        member  Thursday    19.683333  \n",
       "1377821  41.920000 -87.720000        member  Thursday     7.883333  \n",
       "1377691  41.963982 -87.638181        member  Thursday     0.200000  "
      ]
     },
     "execution_count": 71,
     "metadata": {},
     "output_type": "execute_result"
    }
   ],
   "source": [
    "case_1.drop_duplicates()\n",
    "case_1.head()"
   ]
  },
  {
   "cell_type": "markdown",
   "metadata": {},
   "source": [
    "<h1>Analysis<h1>"
   ]
  },
  {
   "cell_type": "code",
   "execution_count": 72,
   "metadata": {},
   "outputs": [
    {
     "data": {
      "text/plain": [
       "'Friday'"
      ]
     },
     "execution_count": 72,
     "metadata": {},
     "output_type": "execute_result"
    }
   ],
   "source": [
    "#Statistical analysis\n",
    "from statistics import mode\n",
    "mode(case_1['week_day'])"
   ]
  },
  {
   "cell_type": "code",
   "execution_count": 73,
   "metadata": {},
   "outputs": [
    {
     "data": {
      "text/plain": [
       "3100833    10.566667\n",
       "3317955     6.250000\n",
       "1635171    19.683333\n",
       "1377821     7.883333\n",
       "1377691     0.200000\n",
       "Name: ride_length, dtype: float64"
      ]
     },
     "execution_count": 73,
     "metadata": {},
     "output_type": "execute_result"
    }
   ],
   "source": [
    "case_1['ride_length'].head()"
   ]
  },
  {
   "cell_type": "code",
   "execution_count": 74,
   "metadata": {},
   "outputs": [
    {
     "data": {
      "text/plain": [
       "3100833    1\n",
       "3317955    1\n",
       "1635171    1\n",
       "1377821    1\n",
       "1377691    1\n",
       "Name: month, dtype: int64"
      ]
     },
     "execution_count": 74,
     "metadata": {},
     "output_type": "execute_result"
    }
   ],
   "source": [
    "case_1['month'] = pd.DatetimeIndex(case_1['started_at']).month\n",
    "case_1['month'].head()"
   ]
  },
  {
   "cell_type": "code",
   "execution_count": 75,
   "metadata": {},
   "outputs": [
    {
     "data": {
      "text/plain": [
       "21.971850987800902"
      ]
     },
     "execution_count": 75,
     "metadata": {},
     "output_type": "execute_result"
    }
   ],
   "source": [
    "mean_ride_length = case_1['ride_length'].mean()\n",
    "mean_ride_length"
   ]
  },
  {
   "cell_type": "code",
   "execution_count": 76,
   "metadata": {},
   "outputs": [
    {
     "data": {
      "text/plain": [
       "55944.15"
      ]
     },
     "execution_count": 76,
     "metadata": {},
     "output_type": "execute_result"
    }
   ],
   "source": [
    "max_ride_length = case_1['ride_length'].max()\n",
    "max_ride_length"
   ]
  },
  {
   "cell_type": "code",
   "execution_count": 77,
   "metadata": {},
   "outputs": [
    {
     "data": {
      "text/plain": [
       "13.648009923207674"
      ]
     },
     "execution_count": 77,
     "metadata": {},
     "output_type": "execute_result"
    }
   ],
   "source": [
    "mean_ride_length_member = case_1[case_1['member_casual']=='member']\n",
    "mean_ride_length_member = mean_ride_length_member['ride_length'].mean()\n",
    "mean_ride_length_member"
   ]
  },
  {
   "cell_type": "code",
   "execution_count": 78,
   "metadata": {},
   "outputs": [
    {
     "data": {
      "text/plain": [
       "32.19897609602308"
      ]
     },
     "execution_count": 78,
     "metadata": {},
     "output_type": "execute_result"
    }
   ],
   "source": [
    "mean_ride_length_casual = case_1[case_1['member_casual']=='casual']\n",
    "mean_ride_length_casual = mean_ride_length_casual['ride_length'].mean()\n",
    "mean_ride_length_casual"
   ]
  },
  {
   "cell_type": "code",
   "execution_count": 79,
   "metadata": {},
   "outputs": [
    {
     "data": {
      "text/plain": [
       "1559.9333333333334"
      ]
     },
     "execution_count": 79,
     "metadata": {},
     "output_type": "execute_result"
    }
   ],
   "source": [
    "max_ride_length_member = case_1[case_1['member_casual']=='member']\n",
    "max_ride_length_member = max_ride_length_member['ride_length'].max()\n",
    "max_ride_length_member"
   ]
  },
  {
   "cell_type": "code",
   "execution_count": 80,
   "metadata": {},
   "outputs": [
    {
     "data": {
      "text/plain": [
       "55944.15"
      ]
     },
     "execution_count": 80,
     "metadata": {},
     "output_type": "execute_result"
    }
   ],
   "source": [
    "max_ride_length_casual = case_1[case_1['member_casual']=='casual']\n",
    "max_ride_length_casual = max_ride_length_casual['ride_length'].max()\n",
    "max_ride_length_casual"
   ]
  },
  {
   "cell_type": "code",
   "execution_count": 81,
   "metadata": {},
   "outputs": [
    {
     "data": {
      "text/plain": [
       "0    Tuesday\n",
       "Name: week_day, dtype: object"
      ]
     },
     "execution_count": 81,
     "metadata": {},
     "output_type": "execute_result"
    }
   ],
   "source": [
    "mode_week_day_member = case_1[case_1['member_casual']=='member']\n",
    "mode_week_day_member = mode_week_day_member['week_day'].mode()\n",
    "mode_week_day_member\n",
    "    "
   ]
  },
  {
   "cell_type": "code",
   "execution_count": 82,
   "metadata": {},
   "outputs": [
    {
     "data": {
      "text/plain": [
       "0    Friday\n",
       "Name: week_day, dtype: object"
      ]
     },
     "execution_count": 82,
     "metadata": {},
     "output_type": "execute_result"
    }
   ],
   "source": [
    "mode_week_day_casual = case_1[case_1['member_casual']=='casual']\n",
    "mode_week_day_casual = mode_week_day_casual['week_day'].mode()\n",
    "mode_week_day_casual"
   ]
  },
  {
   "cell_type": "code",
   "execution_count": 83,
   "metadata": {},
   "outputs": [
    {
     "data": {
      "text/plain": [
       "week_day\n",
       "Friday       1036299\n",
       "Monday        773905\n",
       "Saturday      892912\n",
       "Sunday        737413\n",
       "Thursday      836165\n",
       "Tuesday       787811\n",
       "Wednesday     759054\n",
       "Name: ride_id, dtype: int64"
      ]
     },
     "execution_count": 83,
     "metadata": {},
     "output_type": "execute_result"
    }
   ],
   "source": [
    "count_users_week_day = case_1.groupby('week_day')['ride_id'].count()\n",
    "count_users_week_day = count_users_week_day.sort_index()\n",
    "count_users_week_day"
   ]
  },
  {
   "cell_type": "code",
   "execution_count": 84,
   "metadata": {},
   "outputs": [
    {
     "data": {
      "text/plain": [
       "week_day\n",
       "Friday       456209\n",
       "Monday       489050\n",
       "Saturday     394427\n",
       "Sunday       439047\n",
       "Thursday     464308\n",
       "Tuesday      499978\n",
       "Wednesday    467502\n",
       "Name: ride_id, dtype: int64"
      ]
     },
     "execution_count": 84,
     "metadata": {},
     "output_type": "execute_result"
    }
   ],
   "source": [
    "count_member_week_day = case_1[case_1['member_casual']=='member'].groupby('week_day')['ride_id'].count()\n",
    "count_member_week_day"
   ]
  },
  {
   "cell_type": "markdown",
   "metadata": {},
   "source": [
    "<h2> Visualization <h2>"
   ]
  },
  {
   "cell_type": "code",
   "execution_count": 91,
   "metadata": {},
   "outputs": [
    {
     "data": {
      "image/png": "[encoded data removed]",
      "text/plain": [
       "<Figure size 576x432 with 1 Axes>"
      ]
     },
     "metadata": {
      "needs_background": "light"
     },
     "output_type": "display_data"
    }
   ],
   "source": [
    "#plot graph of weekday frequency\n",
    "plt.figure(figsize= (8,6))\n",
    "plt.plot(case_1.groupby('week_day')['ride_id'].count().values)\n",
    "plt.plot( case_1[case_1['member_casual']=='member'].groupby('week_day')['ride_id'].count().values)\n",
    "plt.plot(case_1[case_1['member_casual']=='casual'].groupby('week_day')['ride_id'].count().values )\n",
    "plt.title('Number of rides in weekday')\n",
    "plt.legend(['user', 'member', 'casual'])\n",
    "labels = ['Sunday', 'Monday', 'Tuesday', 'Wednesday', 'Thursday', 'Friday', 'Saturday']\n",
    "# plt.xticks(case_1[case_1['member_casual']=='casual'].groupby('week_day')['ride_id'].count().index, labels)\n",
    "plt.show()"
   ]
  },
  {
   "cell_type": "markdown",
   "metadata": {},
   "source": [
    "<h2>Number of users<h2>"
   ]
  },
  {
   "cell_type": "code",
   "execution_count": null,
   "metadata": {},
   "outputs": [
    {
     "data": {
      "text/html": [
       "<div>\n",
       "<style scoped>\n",
       "    .dataframe tbody tr th:only-of-type {\n",
       "        vertical-align: middle;\n",
       "    }\n",
       "\n",
       "    .dataframe tbody tr th {\n",
       "        vertical-align: top;\n",
       "    }\n",
       "\n",
       "    .dataframe thead th {\n",
       "        text-align: right;\n",
       "    }\n",
       "</style>\n",
       "<table border=\"1\" class=\"dataframe\">\n",
       "  <thead>\n",
       "    <tr style=\"text-align: right;\">\n",
       "      <th></th>\n",
       "      <th>ride_id</th>\n",
       "    </tr>\n",
       "    <tr>\n",
       "      <th>member_casual</th>\n",
       "      <th></th>\n",
       "    </tr>\n",
       "  </thead>\n",
       "  <tbody>\n",
       "    <tr>\n",
       "      <th>casual</th>\n",
       "      <td>2613038</td>\n",
       "    </tr>\n",
       "    <tr>\n",
       "      <th>member</th>\n",
       "      <td>3210521</td>\n",
       "    </tr>\n",
       "  </tbody>\n",
       "</table>\n",
       "</div>"
      ],
      "text/plain": [
       "               ride_id\n",
       "member_casual         \n",
       "casual         2613038\n",
       "member         3210521"
      ]
     },
     "execution_count": 27,
     "metadata": {},
     "output_type": "execute_result"
    }
   ],
   "source": [
    "member_type = pd.pivot_table(case_1, index='member_casual', values='ride_id',aggfunc='count')\n",
    "member_type"
   ]
  },
  {
   "cell_type": "code",
   "execution_count": null,
   "metadata": {},
   "outputs": [
    {
     "data": {
      "text/plain": [
       "<matplotlib.legend.Legend at 0x1b3a482b220>"
      ]
     },
     "execution_count": 28,
     "metadata": {},
     "output_type": "execute_result"
    },
    {
     "data": {
      "image/png": "[encoded data removed]",
      "text/plain": [
       "<Figure size 576x432 with 1 Axes>"
      ]
     },
     "metadata": {},
     "output_type": "display_data"
    }
   ],
   "source": [
    "member_type.plot.pie(y='ride_id',autopct='%1.1f%%', figsize=(8,6))\n",
    "plt.title('count of users')\n",
    "plt.legend()"
   ]
  },
  {
   "cell_type": "code",
   "execution_count": null,
   "metadata": {},
   "outputs": [
    {
     "data": {
      "text/html": [
       "<div>\n",
       "<style scoped>\n",
       "    .dataframe tbody tr th:only-of-type {\n",
       "        vertical-align: middle;\n",
       "    }\n",
       "\n",
       "    .dataframe tbody tr th {\n",
       "        vertical-align: top;\n",
       "    }\n",
       "\n",
       "    .dataframe thead th {\n",
       "        text-align: right;\n",
       "    }\n",
       "</style>\n",
       "<table border=\"1\" class=\"dataframe\">\n",
       "  <thead>\n",
       "    <tr style=\"text-align: right;\">\n",
       "      <th>member_casual</th>\n",
       "      <th>casual</th>\n",
       "      <th>member</th>\n",
       "    </tr>\n",
       "    <tr>\n",
       "      <th>month</th>\n",
       "      <th></th>\n",
       "      <th></th>\n",
       "    </tr>\n",
       "  </thead>\n",
       "  <tbody>\n",
       "    <tr>\n",
       "      <th>1</th>\n",
       "      <td>18117</td>\n",
       "      <td>78717</td>\n",
       "    </tr>\n",
       "    <tr>\n",
       "      <th>2</th>\n",
       "      <td>10131</td>\n",
       "      <td>39491</td>\n",
       "    </tr>\n",
       "    <tr>\n",
       "      <th>3</th>\n",
       "      <td>168066</td>\n",
       "      <td>288926</td>\n",
       "    </tr>\n",
       "    <tr>\n",
       "      <th>4</th>\n",
       "      <td>136601</td>\n",
       "      <td>200629</td>\n",
       "    </tr>\n",
       "    <tr>\n",
       "      <th>5</th>\n",
       "      <td>256916</td>\n",
       "      <td>274717</td>\n",
       "    </tr>\n",
       "    <tr>\n",
       "      <th>6</th>\n",
       "      <td>370681</td>\n",
       "      <td>358914</td>\n",
       "    </tr>\n",
       "    <tr>\n",
       "      <th>7</th>\n",
       "      <td>442056</td>\n",
       "      <td>380354</td>\n",
       "    </tr>\n",
       "    <tr>\n",
       "      <th>8</th>\n",
       "      <td>412671</td>\n",
       "      <td>391681</td>\n",
       "    </tr>\n",
       "    <tr>\n",
       "      <th>9</th>\n",
       "      <td>363890</td>\n",
       "      <td>392257</td>\n",
       "    </tr>\n",
       "    <tr>\n",
       "      <th>10</th>\n",
       "      <td>257242</td>\n",
       "      <td>373984</td>\n",
       "    </tr>\n",
       "    <tr>\n",
       "      <th>11</th>\n",
       "      <td>106929</td>\n",
       "      <td>253049</td>\n",
       "    </tr>\n",
       "    <tr>\n",
       "      <th>12</th>\n",
       "      <td>69738</td>\n",
       "      <td>177802</td>\n",
       "    </tr>\n",
       "  </tbody>\n",
       "</table>\n",
       "</div>"
      ],
      "text/plain": [
       "member_casual  casual  member\n",
       "month                        \n",
       "1               18117   78717\n",
       "2               10131   39491\n",
       "3              168066  288926\n",
       "4              136601  200629\n",
       "5              256916  274717\n",
       "6              370681  358914\n",
       "7              442056  380354\n",
       "8              412671  391681\n",
       "9              363890  392257\n",
       "10             257242  373984\n",
       "11             106929  253049\n",
       "12              69738  177802"
      ]
     },
     "execution_count": 29,
     "metadata": {},
     "output_type": "execute_result"
    }
   ],
   "source": [
    "member_type_month = pd.pivot_table(case_1, index='month', columns='member_casual', values='ride_id',aggfunc='count')\n",
    "member_type_month"
   ]
  },
  {
   "cell_type": "code",
   "execution_count": null,
   "metadata": {},
   "outputs": [
    {
     "data": {
      "text/plain": [
       "([<matplotlib.axis.XTick at 0x1b3082a1c00>,\n",
       "  <matplotlib.axis.XTick at 0x1b3082a1bd0>,\n",
       "  <matplotlib.axis.XTick at 0x1b308250a30>,\n",
       "  <matplotlib.axis.XTick at 0x1b3082dfcd0>,\n",
       "  <matplotlib.axis.XTick at 0x1b308310460>,\n",
       "  <matplotlib.axis.XTick at 0x1b308310bb0>,\n",
       "  <matplotlib.axis.XTick at 0x1b3082dfa90>,\n",
       "  <matplotlib.axis.XTick at 0x1b308310490>,\n",
       "  <matplotlib.axis.XTick at 0x1b3082a1300>,\n",
       "  <matplotlib.axis.XTick at 0x1b308311a20>,\n",
       "  <matplotlib.axis.XTick at 0x1b3083120e0>,\n",
       "  <matplotlib.axis.XTick at 0x1b308312830>],\n",
       " [Text(0, 0, ''),\n",
       "  Text(0, 0, ''),\n",
       "  Text(0, 0, ''),\n",
       "  Text(0, 0, ''),\n",
       "  Text(0, 0, ''),\n",
       "  Text(0, 0, ''),\n",
       "  Text(0, 0, ''),\n",
       "  Text(0, 0, ''),\n",
       "  Text(0, 0, ''),\n",
       "  Text(0, 0, ''),\n",
       "  Text(0, 0, ''),\n",
       "  Text(0, 0, '')])"
      ]
     },
     "execution_count": 30,
     "metadata": {},
     "output_type": "execute_result"
    },
    {
     "data": {
      "image/png": "[encoded data removed]",
      "text/plain": [
       "<Figure size 576x432 with 1 Axes>"
      ]
     },
     "metadata": {
      "needs_background": "light"
     },
     "output_type": "display_data"
    }
   ],
   "source": [
    "member_type_month.plot(figsize =(8,6))\n",
    "plt.xticks(member_type_month.index)"
   ]
  },
  {
   "cell_type": "markdown",
   "metadata": {},
   "source": [
    "<h2>Types of bike<h2>"
   ]
  },
  {
   "cell_type": "code",
   "execution_count": null,
   "metadata": {},
   "outputs": [
    {
     "data": {
      "text/html": [
       "<div>\n",
       "<style scoped>\n",
       "    .dataframe tbody tr th:only-of-type {\n",
       "        vertical-align: middle;\n",
       "    }\n",
       "\n",
       "    .dataframe tbody tr th {\n",
       "        vertical-align: top;\n",
       "    }\n",
       "\n",
       "    .dataframe thead th {\n",
       "        text-align: right;\n",
       "    }\n",
       "</style>\n",
       "<table border=\"1\" class=\"dataframe\">\n",
       "  <thead>\n",
       "    <tr style=\"text-align: right;\">\n",
       "      <th></th>\n",
       "      <th>member_casual</th>\n",
       "      <th>month</th>\n",
       "      <th>rideable_type</th>\n",
       "      <th>total_bike</th>\n",
       "    </tr>\n",
       "  </thead>\n",
       "  <tbody>\n",
       "    <tr>\n",
       "      <th>0</th>\n",
       "      <td>casual</td>\n",
       "      <td>1</td>\n",
       "      <td>classic_bike</td>\n",
       "      <td>8259</td>\n",
       "    </tr>\n",
       "    <tr>\n",
       "      <th>1</th>\n",
       "      <td>casual</td>\n",
       "      <td>1</td>\n",
       "      <td>docked_bike</td>\n",
       "      <td>2105</td>\n",
       "    </tr>\n",
       "    <tr>\n",
       "      <th>2</th>\n",
       "      <td>casual</td>\n",
       "      <td>1</td>\n",
       "      <td>electric_bike</td>\n",
       "      <td>7753</td>\n",
       "    </tr>\n",
       "    <tr>\n",
       "      <th>3</th>\n",
       "      <td>casual</td>\n",
       "      <td>2</td>\n",
       "      <td>classic_bike</td>\n",
       "      <td>5695</td>\n",
       "    </tr>\n",
       "    <tr>\n",
       "      <th>4</th>\n",
       "      <td>casual</td>\n",
       "      <td>2</td>\n",
       "      <td>docked_bike</td>\n",
       "      <td>1271</td>\n",
       "    </tr>\n",
       "    <tr>\n",
       "      <th>...</th>\n",
       "      <td>...</td>\n",
       "      <td>...</td>\n",
       "      <td>...</td>\n",
       "      <td>...</td>\n",
       "    </tr>\n",
       "    <tr>\n",
       "      <th>56</th>\n",
       "      <td>member</td>\n",
       "      <td>10</td>\n",
       "      <td>electric_bike</td>\n",
       "      <td>163434</td>\n",
       "    </tr>\n",
       "    <tr>\n",
       "      <th>57</th>\n",
       "      <td>member</td>\n",
       "      <td>11</td>\n",
       "      <td>classic_bike</td>\n",
       "      <td>122173</td>\n",
       "    </tr>\n",
       "    <tr>\n",
       "      <th>58</th>\n",
       "      <td>member</td>\n",
       "      <td>11</td>\n",
       "      <td>electric_bike</td>\n",
       "      <td>130876</td>\n",
       "    </tr>\n",
       "    <tr>\n",
       "      <th>59</th>\n",
       "      <td>member</td>\n",
       "      <td>12</td>\n",
       "      <td>classic_bike</td>\n",
       "      <td>80829</td>\n",
       "    </tr>\n",
       "    <tr>\n",
       "      <th>60</th>\n",
       "      <td>member</td>\n",
       "      <td>12</td>\n",
       "      <td>electric_bike</td>\n",
       "      <td>96973</td>\n",
       "    </tr>\n",
       "  </tbody>\n",
       "</table>\n",
       "<p>61 rows × 4 columns</p>\n",
       "</div>"
      ],
      "text/plain": [
       "   member_casual  month  rideable_type  total_bike\n",
       "0         casual      1   classic_bike        8259\n",
       "1         casual      1    docked_bike        2105\n",
       "2         casual      1  electric_bike        7753\n",
       "3         casual      2   classic_bike        5695\n",
       "4         casual      2    docked_bike        1271\n",
       "..           ...    ...            ...         ...\n",
       "56        member     10  electric_bike      163434\n",
       "57        member     11   classic_bike      122173\n",
       "58        member     11  electric_bike      130876\n",
       "59        member     12   classic_bike       80829\n",
       "60        member     12  electric_bike       96973\n",
       "\n",
       "[61 rows x 4 columns]"
      ]
     },
     "execution_count": 32,
     "metadata": {},
     "output_type": "execute_result"
    }
   ],
   "source": [
    "# usage of bike type per month by member type\n",
    "ride_type = pd.pivot_table(case_1, index= ['member_casual', 'month', 'rideable_type'], aggfunc={'rideable_type':np.size})\n",
    "ride_type= ride_type.rename(columns={'rideable_type':'total_bike'})\n",
    "ride_type = ride_type.reset_index()\n",
    "ride_type"
   ]
  },
  {
   "cell_type": "code",
   "execution_count": null,
   "metadata": {},
   "outputs": [
    {
     "name": "stderr",
     "output_type": "stream",
     "text": [
      "C:\\Users\\HP\\AppData\\Local\\Programs\\Python\\Python310\\lib\\site-packages\\seaborn\\axisgrid.py:670: UserWarning: Using the barplot function without specifying `order` is likely to produce an incorrect plot.\n",
      "  warnings.warn(warning)\n"
     ]
    },
    {
     "data": {
      "image/png": "[encoded data removed]",
      "text/plain": [
       "<Figure size 864x432 with 2 Axes>"
      ]
     },
     "metadata": {
      "needs_background": "light"
     },
     "output_type": "display_data"
    }
   ],
   "source": [
    "g= sns.FacetGrid(ride_type, col='member_casual', hue='rideable_type', height=6)\n",
    "g.map(sns.barplot, 'month','total_bike')\n",
    "plt.legend()\n",
    "plt.show()"
   ]
  },
  {
   "cell_type": "code",
   "execution_count": null,
   "metadata": {},
   "outputs": [
    {
     "data": {
      "text/html": [
       "<div>\n",
       "<style scoped>\n",
       "    .dataframe tbody tr th:only-of-type {\n",
       "        vertical-align: middle;\n",
       "    }\n",
       "\n",
       "    .dataframe tbody tr th {\n",
       "        vertical-align: top;\n",
       "    }\n",
       "\n",
       "    .dataframe thead th {\n",
       "        text-align: right;\n",
       "    }\n",
       "</style>\n",
       "<table border=\"1\" class=\"dataframe\">\n",
       "  <thead>\n",
       "    <tr style=\"text-align: right;\">\n",
       "      <th></th>\n",
       "      <th>ride_id</th>\n",
       "      <th>month</th>\n",
       "      <th>member_casual</th>\n",
       "      <th>rideable_type</th>\n",
       "    </tr>\n",
       "  </thead>\n",
       "  <tbody>\n",
       "    <tr>\n",
       "      <th>3100833</th>\n",
       "      <td>A3F8D895163BBB49</td>\n",
       "      <td>1</td>\n",
       "      <td>member</td>\n",
       "      <td>electric_bike</td>\n",
       "    </tr>\n",
       "    <tr>\n",
       "      <th>3317955</th>\n",
       "      <td>0D139A3203274B87</td>\n",
       "      <td>1</td>\n",
       "      <td>member</td>\n",
       "      <td>classic_bike</td>\n",
       "    </tr>\n",
       "    <tr>\n",
       "      <th>1635171</th>\n",
       "      <td>C7AE8E9CDB197A8E</td>\n",
       "      <td>1</td>\n",
       "      <td>member</td>\n",
       "      <td>classic_bike</td>\n",
       "    </tr>\n",
       "    <tr>\n",
       "      <th>1377821</th>\n",
       "      <td>2633EB2B8A99F5CB</td>\n",
       "      <td>1</td>\n",
       "      <td>member</td>\n",
       "      <td>electric_bike</td>\n",
       "    </tr>\n",
       "    <tr>\n",
       "      <th>1377691</th>\n",
       "      <td>3097EF26414C7016</td>\n",
       "      <td>1</td>\n",
       "      <td>member</td>\n",
       "      <td>classic_bike</td>\n",
       "    </tr>\n",
       "    <tr>\n",
       "      <th>...</th>\n",
       "      <td>...</td>\n",
       "      <td>...</td>\n",
       "      <td>...</td>\n",
       "      <td>...</td>\n",
       "    </tr>\n",
       "    <tr>\n",
       "      <th>5645240</th>\n",
       "      <td>7B3D0E8AB0842D5E</td>\n",
       "      <td>12</td>\n",
       "      <td>casual</td>\n",
       "      <td>classic_bike</td>\n",
       "    </tr>\n",
       "    <tr>\n",
       "      <th>5645241</th>\n",
       "      <td>B5AEBEF3B5F41C77</td>\n",
       "      <td>12</td>\n",
       "      <td>casual</td>\n",
       "      <td>electric_bike</td>\n",
       "    </tr>\n",
       "    <tr>\n",
       "      <th>5592951</th>\n",
       "      <td>CE1BE016BCE85CCB</td>\n",
       "      <td>12</td>\n",
       "      <td>casual</td>\n",
       "      <td>electric_bike</td>\n",
       "    </tr>\n",
       "    <tr>\n",
       "      <th>5698684</th>\n",
       "      <td>B0466FF51982DE4B</td>\n",
       "      <td>12</td>\n",
       "      <td>member</td>\n",
       "      <td>electric_bike</td>\n",
       "    </tr>\n",
       "    <tr>\n",
       "      <th>5702762</th>\n",
       "      <td>297D1BD291D07BF3</td>\n",
       "      <td>12</td>\n",
       "      <td>casual</td>\n",
       "      <td>electric_bike</td>\n",
       "    </tr>\n",
       "  </tbody>\n",
       "</table>\n",
       "<p>5823559 rows × 4 columns</p>\n",
       "</div>"
      ],
      "text/plain": [
       "                  ride_id  month member_casual  rideable_type\n",
       "3100833  A3F8D895163BBB49      1        member  electric_bike\n",
       "3317955  0D139A3203274B87      1        member   classic_bike\n",
       "1635171  C7AE8E9CDB197A8E      1        member   classic_bike\n",
       "1377821  2633EB2B8A99F5CB      1        member  electric_bike\n",
       "1377691  3097EF26414C7016      1        member   classic_bike\n",
       "...                   ...    ...           ...            ...\n",
       "5645240  7B3D0E8AB0842D5E     12        casual   classic_bike\n",
       "5645241  B5AEBEF3B5F41C77     12        casual  electric_bike\n",
       "5592951  CE1BE016BCE85CCB     12        casual  electric_bike\n",
       "5698684  B0466FF51982DE4B     12        member  electric_bike\n",
       "5702762  297D1BD291D07BF3     12        casual  electric_bike\n",
       "\n",
       "[5823559 rows x 4 columns]"
      ]
     },
     "execution_count": 34,
     "metadata": {},
     "output_type": "execute_result"
    }
   ],
   "source": [
    "ride_type_month = case_1[['ride_id','month', 'member_casual', 'rideable_type']]\n",
    "ride_type_month"
   ]
  },
  {
   "cell_type": "code",
   "execution_count": null,
   "metadata": {},
   "outputs": [
    {
     "data": {
      "text/html": [
       "<div>\n",
       "<style scoped>\n",
       "    .dataframe tbody tr th:only-of-type {\n",
       "        vertical-align: middle;\n",
       "    }\n",
       "\n",
       "    .dataframe tbody tr th {\n",
       "        vertical-align: top;\n",
       "    }\n",
       "\n",
       "    .dataframe thead th {\n",
       "        text-align: right;\n",
       "    }\n",
       "</style>\n",
       "<table border=\"1\" class=\"dataframe\">\n",
       "  <thead>\n",
       "    <tr style=\"text-align: right;\">\n",
       "      <th></th>\n",
       "      <th>member_casual</th>\n",
       "      <th>week_day</th>\n",
       "      <th>rideable_type</th>\n",
       "      <th>total_bike</th>\n",
       "    </tr>\n",
       "  </thead>\n",
       "  <tbody>\n",
       "    <tr>\n",
       "      <th>0</th>\n",
       "      <td>casual</td>\n",
       "      <td>0</td>\n",
       "      <td>classic_bike</td>\n",
       "      <td>142278</td>\n",
       "    </tr>\n",
       "    <tr>\n",
       "      <th>1</th>\n",
       "      <td>casual</td>\n",
       "      <td>0</td>\n",
       "      <td>docked_bike</td>\n",
       "      <td>38814</td>\n",
       "    </tr>\n",
       "    <tr>\n",
       "      <th>2</th>\n",
       "      <td>casual</td>\n",
       "      <td>0</td>\n",
       "      <td>electric_bike</td>\n",
       "      <td>117274</td>\n",
       "    </tr>\n",
       "    <tr>\n",
       "      <th>3</th>\n",
       "      <td>casual</td>\n",
       "      <td>1</td>\n",
       "      <td>classic_bike</td>\n",
       "      <td>131504</td>\n",
       "    </tr>\n",
       "    <tr>\n",
       "      <th>4</th>\n",
       "      <td>casual</td>\n",
       "      <td>1</td>\n",
       "      <td>docked_bike</td>\n",
       "      <td>31464</td>\n",
       "    </tr>\n",
       "  </tbody>\n",
       "</table>\n",
       "</div>"
      ],
      "text/plain": [
       "  member_casual  week_day  rideable_type  total_bike\n",
       "0        casual         0   classic_bike      142278\n",
       "1        casual         0    docked_bike       38814\n",
       "2        casual         0  electric_bike      117274\n",
       "3        casual         1   classic_bike      131504\n",
       "4        casual         1    docked_bike       31464"
      ]
     },
     "execution_count": 35,
     "metadata": {},
     "output_type": "execute_result"
    }
   ],
   "source": [
    "# usage of bike type per day by member type\n",
    "ride_type_day = pd.pivot_table(case_1, index= ['member_casual', 'week_day', 'rideable_type'], aggfunc={'rideable_type':np.size})\n",
    "ride_type_day= ride_type_day.rename(columns={'rideable_type':'total_bike'})\n",
    "ride_type_day = ride_type_day.reset_index()\n",
    "ride_type_day.head()"
   ]
  },
  {
   "cell_type": "code",
   "execution_count": null,
   "metadata": {},
   "outputs": [
    {
     "name": "stderr",
     "output_type": "stream",
     "text": [
      "C:\\Users\\HP\\AppData\\Local\\Programs\\Python\\Python310\\lib\\site-packages\\seaborn\\axisgrid.py:670: UserWarning: Using the barplot function without specifying `order` is likely to produce an incorrect plot.\n",
      "  warnings.warn(warning)\n"
     ]
    },
    {
     "data": {
      "image/png": "[encoded data removed]",
      "text/plain": [
       "<Figure size 576x288 with 2 Axes>"
      ]
     },
     "metadata": {
      "needs_background": "light"
     },
     "output_type": "display_data"
    }
   ],
   "source": [
    "g= sns.FacetGrid(ride_type_day, col='member_casual', hue='rideable_type', height=4)\n",
    "g.map(sns.barplot, 'week_day','total_bike')\n",
    "plt.legend()\n",
    "plt.show()"
   ]
  },
  {
   "cell_type": "markdown",
   "metadata": {},
   "source": [
    "<h2>Trip length<h2>"
   ]
  },
  {
   "cell_type": "code",
   "execution_count": null,
   "metadata": {},
   "outputs": [
    {
     "data": {
      "text/html": [
       "<div>\n",
       "<style scoped>\n",
       "    .dataframe tbody tr th:only-of-type {\n",
       "        vertical-align: middle;\n",
       "    }\n",
       "\n",
       "    .dataframe tbody tr th {\n",
       "        vertical-align: top;\n",
       "    }\n",
       "\n",
       "    .dataframe thead th {\n",
       "        text-align: right;\n",
       "    }\n",
       "</style>\n",
       "<table border=\"1\" class=\"dataframe\">\n",
       "  <thead>\n",
       "    <tr style=\"text-align: right;\">\n",
       "      <th></th>\n",
       "      <th>member_casual</th>\n",
       "      <th>week_day</th>\n",
       "      <th>total_trips</th>\n",
       "      <th>avg_trip_length</th>\n",
       "    </tr>\n",
       "  </thead>\n",
       "  <tbody>\n",
       "    <tr>\n",
       "      <th>0</th>\n",
       "      <td>casual</td>\n",
       "      <td>Friday</td>\n",
       "      <td>580090</td>\n",
       "      <td>34.995022</td>\n",
       "    </tr>\n",
       "    <tr>\n",
       "      <th>1</th>\n",
       "      <td>casual</td>\n",
       "      <td>Monday</td>\n",
       "      <td>284855</td>\n",
       "      <td>28.267254</td>\n",
       "    </tr>\n",
       "    <tr>\n",
       "      <th>2</th>\n",
       "      <td>casual</td>\n",
       "      <td>Saturday</td>\n",
       "      <td>498485</td>\n",
       "      <td>37.693197</td>\n",
       "    </tr>\n",
       "    <tr>\n",
       "      <th>3</th>\n",
       "      <td>casual</td>\n",
       "      <td>Sunday</td>\n",
       "      <td>298366</td>\n",
       "      <td>32.367896</td>\n",
       "    </tr>\n",
       "    <tr>\n",
       "      <th>4</th>\n",
       "      <td>casual</td>\n",
       "      <td>Thursday</td>\n",
       "      <td>371857</td>\n",
       "      <td>30.324082</td>\n",
       "    </tr>\n",
       "    <tr>\n",
       "      <th>5</th>\n",
       "      <td>casual</td>\n",
       "      <td>Tuesday</td>\n",
       "      <td>287833</td>\n",
       "      <td>27.690464</td>\n",
       "    </tr>\n",
       "    <tr>\n",
       "      <th>6</th>\n",
       "      <td>casual</td>\n",
       "      <td>Wednesday</td>\n",
       "      <td>291552</td>\n",
       "      <td>27.752829</td>\n",
       "    </tr>\n",
       "    <tr>\n",
       "      <th>7</th>\n",
       "      <td>member</td>\n",
       "      <td>Friday</td>\n",
       "      <td>456209</td>\n",
       "      <td>15.295315</td>\n",
       "    </tr>\n",
       "    <tr>\n",
       "      <th>8</th>\n",
       "      <td>member</td>\n",
       "      <td>Monday</td>\n",
       "      <td>489050</td>\n",
       "      <td>12.821334</td>\n",
       "    </tr>\n",
       "    <tr>\n",
       "      <th>9</th>\n",
       "      <td>member</td>\n",
       "      <td>Saturday</td>\n",
       "      <td>394427</td>\n",
       "      <td>15.677598</td>\n",
       "    </tr>\n",
       "    <tr>\n",
       "      <th>10</th>\n",
       "      <td>member</td>\n",
       "      <td>Sunday</td>\n",
       "      <td>439047</td>\n",
       "      <td>13.293092</td>\n",
       "    </tr>\n",
       "    <tr>\n",
       "      <th>11</th>\n",
       "      <td>member</td>\n",
       "      <td>Thursday</td>\n",
       "      <td>464308</td>\n",
       "      <td>13.302639</td>\n",
       "    </tr>\n",
       "    <tr>\n",
       "      <th>12</th>\n",
       "      <td>member</td>\n",
       "      <td>Tuesday</td>\n",
       "      <td>499978</td>\n",
       "      <td>12.822820</td>\n",
       "    </tr>\n",
       "    <tr>\n",
       "      <th>13</th>\n",
       "      <td>member</td>\n",
       "      <td>Wednesday</td>\n",
       "      <td>467502</td>\n",
       "      <td>12.751772</td>\n",
       "    </tr>\n",
       "  </tbody>\n",
       "</table>\n",
       "</div>"
      ],
      "text/plain": [
       "   member_casual   week_day  total_trips  avg_trip_length\n",
       "0         casual     Friday       580090        34.995022\n",
       "1         casual     Monday       284855        28.267254\n",
       "2         casual   Saturday       498485        37.693197\n",
       "3         casual     Sunday       298366        32.367896\n",
       "4         casual   Thursday       371857        30.324082\n",
       "5         casual    Tuesday       287833        27.690464\n",
       "6         casual  Wednesday       291552        27.752829\n",
       "7         member     Friday       456209        15.295315\n",
       "8         member     Monday       489050        12.821334\n",
       "9         member   Saturday       394427        15.677598\n",
       "10        member     Sunday       439047        13.293092\n",
       "11        member   Thursday       464308        13.302639\n",
       "12        member    Tuesday       499978        12.822820\n",
       "13        member  Wednesday       467502        12.751772"
      ]
     },
     "execution_count": 51,
     "metadata": {},
     "output_type": "execute_result"
    }
   ],
   "source": [
    "# dict1={0:'Sunday', 1: 'Monday', 2:'Tuesday', 3:'Wednesday', 4:'Thursday',5:'Friday', 6:'Saturday'}\n",
    "# case_1['week_day'] = case_1['week_day'].apply(lambda y:dict1[y])\n",
    "weekly_usage = pd.pivot_table(case_1, index=['member_casual', 'week_day'],\n",
    "                              aggfunc={'member_casual':np.size, 'ride_length':np.mean}\n",
    "                              ).rename(columns={'member_casual':'total_trips','ride_length':'avg_trip_length'}).reset_index()\n",
    "weekly_usage                    "
   ]
  },
  {
   "cell_type": "code",
   "execution_count": null,
   "metadata": {},
   "outputs": [
    {
     "name": "stderr",
     "output_type": "stream",
     "text": [
      "C:\\Users\\HP\\AppData\\Local\\Programs\\Python\\Python310\\lib\\site-packages\\seaborn\\axisgrid.py:670: UserWarning:\n",
      "\n",
      "Using the barplot function without specifying `order` is likely to produce an incorrect plot.\n",
      "\n"
     ]
    },
    {
     "data": {
      "image/png": "[encoded data removed]",
      "text/plain": [
       "<Figure size 720x360 with 2 Axes>"
      ]
     },
     "metadata": {
      "needs_background": "light"
     },
     "output_type": "display_data"
    }
   ],
   "source": [
    "g = sns.FacetGrid(weekly_usage, col='member_casual', hue='member_casual', palette=['orange', '#83e6ea'], height=5)\n",
    "#g.set_xticklabels(rotation=45)\n",
    "g.map(sns.barplot, 'week_day', 'avg_trip_length')\n",
    "plt.show()"
   ]
  },
  {
   "cell_type": "code",
   "execution_count": null,
   "metadata": {},
   "outputs": [
    {
     "data": {
      "text/html": [
       "<div>\n",
       "<style scoped>\n",
       "    .dataframe tbody tr th:only-of-type {\n",
       "        vertical-align: middle;\n",
       "    }\n",
       "\n",
       "    .dataframe tbody tr th {\n",
       "        vertical-align: top;\n",
       "    }\n",
       "\n",
       "    .dataframe thead th {\n",
       "        text-align: right;\n",
       "    }\n",
       "</style>\n",
       "<table border=\"1\" class=\"dataframe\">\n",
       "  <thead>\n",
       "    <tr style=\"text-align: right;\">\n",
       "      <th></th>\n",
       "      <th>member_casual</th>\n",
       "      <th>month</th>\n",
       "      <th>total_trips</th>\n",
       "      <th>avg_trip_length</th>\n",
       "    </tr>\n",
       "  </thead>\n",
       "  <tbody>\n",
       "    <tr>\n",
       "      <th>0</th>\n",
       "      <td>casual</td>\n",
       "      <td>1</td>\n",
       "      <td>18117</td>\n",
       "      <td>25.684590</td>\n",
       "    </tr>\n",
       "    <tr>\n",
       "      <th>1</th>\n",
       "      <td>casual</td>\n",
       "      <td>2</td>\n",
       "      <td>10131</td>\n",
       "      <td>49.373229</td>\n",
       "    </tr>\n",
       "    <tr>\n",
       "      <th>2</th>\n",
       "      <td>casual</td>\n",
       "      <td>3</td>\n",
       "      <td>168066</td>\n",
       "      <td>38.158731</td>\n",
       "    </tr>\n",
       "    <tr>\n",
       "      <th>3</th>\n",
       "      <td>casual</td>\n",
       "      <td>4</td>\n",
       "      <td>136601</td>\n",
       "      <td>38.022990</td>\n",
       "    </tr>\n",
       "    <tr>\n",
       "      <th>4</th>\n",
       "      <td>casual</td>\n",
       "      <td>5</td>\n",
       "      <td>256916</td>\n",
       "      <td>38.230966</td>\n",
       "    </tr>\n",
       "  </tbody>\n",
       "</table>\n",
       "</div>"
      ],
      "text/plain": [
       "  member_casual  month  total_trips  avg_trip_length\n",
       "0        casual      1        18117        25.684590\n",
       "1        casual      2        10131        49.373229\n",
       "2        casual      3       168066        38.158731\n",
       "3        casual      4       136601        38.022990\n",
       "4        casual      5       256916        38.230966"
      ]
     },
     "execution_count": 55,
     "metadata": {},
     "output_type": "execute_result"
    }
   ],
   "source": [
    "monthly_usage = pd.pivot_table(case_1, index=['member_casual', 'month'],\n",
    "                              aggfunc={'member_casual':np.size, 'ride_length':np.mean}\n",
    "                              ).rename(columns={'member_casual':'total_trips','ride_length':'avg_trip_length'}).reset_index()\n",
    "monthly_usage.head()"
   ]
  },
  {
   "cell_type": "code",
   "execution_count": null,
   "metadata": {},
   "outputs": [
    {
     "name": "stderr",
     "output_type": "stream",
     "text": [
      "C:\\Users\\HP\\AppData\\Local\\Programs\\Python\\Python310\\lib\\site-packages\\seaborn\\axisgrid.py:670: UserWarning:\n",
      "\n",
      "Using the barplot function without specifying `order` is likely to produce an incorrect plot.\n",
      "\n"
     ]
    },
    {
     "data": {
      "image/png": "[encoded data removed]",
      "text/plain": [
       "<Figure size 720x360 with 2 Axes>"
      ]
     },
     "metadata": {
      "needs_background": "light"
     },
     "output_type": "display_data"
    }
   ],
   "source": [
    "g2 = sns.FacetGrid(monthly_usage, col='member_casual', hue='member_casual', palette=['orange', '#83e6ea'], height=5)\n",
    "#g.set_xticklabels(rotation=45)\n",
    "g2.map(sns.barplot, 'month', 'avg_trip_length')\n",
    "plt.show()"
   ]
  },
  {
   "cell_type": "markdown",
   "metadata": {},
   "source": [
    "<h2> Geolocation <h2>"
   ]
  },
  {
   "cell_type": "code",
   "execution_count": null,
   "metadata": {},
   "outputs": [
    {
     "data": {
      "text/html": [
       "<div>\n",
       "<style scoped>\n",
       "    .dataframe tbody tr th:only-of-type {\n",
       "        vertical-align: middle;\n",
       "    }\n",
       "\n",
       "    .dataframe tbody tr th {\n",
       "        vertical-align: top;\n",
       "    }\n",
       "\n",
       "    .dataframe thead th {\n",
       "        text-align: right;\n",
       "    }\n",
       "</style>\n",
       "<table border=\"1\" class=\"dataframe\">\n",
       "  <thead>\n",
       "    <tr style=\"text-align: right;\">\n",
       "      <th></th>\n",
       "      <th>start_station_name</th>\n",
       "      <th>start_lat</th>\n",
       "      <th>start_lng</th>\n",
       "      <th>num_trip</th>\n",
       "    </tr>\n",
       "  </thead>\n",
       "  <tbody>\n",
       "    <tr>\n",
       "      <th>0</th>\n",
       "      <td>2112 W Peterson Ave</td>\n",
       "      <td>41.991062</td>\n",
       "      <td>-87.683560</td>\n",
       "      <td>2</td>\n",
       "    </tr>\n",
       "    <tr>\n",
       "      <th>1</th>\n",
       "      <td>2112 W Peterson Ave</td>\n",
       "      <td>41.991067</td>\n",
       "      <td>-87.683616</td>\n",
       "      <td>1</td>\n",
       "    </tr>\n",
       "    <tr>\n",
       "      <th>2</th>\n",
       "      <td>2112 W Peterson Ave</td>\n",
       "      <td>41.991082</td>\n",
       "      <td>-87.683676</td>\n",
       "      <td>1</td>\n",
       "    </tr>\n",
       "    <tr>\n",
       "      <th>3</th>\n",
       "      <td>2112 W Peterson Ave</td>\n",
       "      <td>41.991082</td>\n",
       "      <td>-87.683605</td>\n",
       "      <td>1</td>\n",
       "    </tr>\n",
       "    <tr>\n",
       "      <th>4</th>\n",
       "      <td>2112 W Peterson Ave</td>\n",
       "      <td>41.991095</td>\n",
       "      <td>-87.683559</td>\n",
       "      <td>1</td>\n",
       "    </tr>\n",
       "    <tr>\n",
       "      <th>...</th>\n",
       "      <td>...</td>\n",
       "      <td>...</td>\n",
       "      <td>...</td>\n",
       "      <td>...</td>\n",
       "    </tr>\n",
       "    <tr>\n",
       "      <th>1321380</th>\n",
       "      <td>Yates Blvd &amp; 93rd St</td>\n",
       "      <td>41.726189</td>\n",
       "      <td>-87.566373</td>\n",
       "      <td>1</td>\n",
       "    </tr>\n",
       "    <tr>\n",
       "      <th>1321381</th>\n",
       "      <td>Yates Blvd &amp; 93rd St</td>\n",
       "      <td>41.726202</td>\n",
       "      <td>-87.566294</td>\n",
       "      <td>1</td>\n",
       "    </tr>\n",
       "    <tr>\n",
       "      <th>1321382</th>\n",
       "      <td>Yates Blvd &amp; 93rd St</td>\n",
       "      <td>41.726203</td>\n",
       "      <td>-87.566301</td>\n",
       "      <td>1</td>\n",
       "    </tr>\n",
       "    <tr>\n",
       "      <th>1321383</th>\n",
       "      <td>Yates Blvd &amp; 93rd St</td>\n",
       "      <td>41.726206</td>\n",
       "      <td>-87.566314</td>\n",
       "      <td>1</td>\n",
       "    </tr>\n",
       "    <tr>\n",
       "      <th>1321384</th>\n",
       "      <td>Yates Blvd &amp; 93rd St</td>\n",
       "      <td>41.726206</td>\n",
       "      <td>-87.566375</td>\n",
       "      <td>1</td>\n",
       "    </tr>\n",
       "  </tbody>\n",
       "</table>\n",
       "<p>1321385 rows × 4 columns</p>\n",
       "</div>"
      ],
      "text/plain": [
       "           start_station_name  start_lat  start_lng  num_trip\n",
       "0         2112 W Peterson Ave  41.991062 -87.683560         2\n",
       "1         2112 W Peterson Ave  41.991067 -87.683616         1\n",
       "2         2112 W Peterson Ave  41.991082 -87.683676         1\n",
       "3         2112 W Peterson Ave  41.991082 -87.683605         1\n",
       "4         2112 W Peterson Ave  41.991095 -87.683559         1\n",
       "...                       ...        ...        ...       ...\n",
       "1321380  Yates Blvd & 93rd St  41.726189 -87.566373         1\n",
       "1321381  Yates Blvd & 93rd St  41.726202 -87.566294         1\n",
       "1321382  Yates Blvd & 93rd St  41.726203 -87.566301         1\n",
       "1321383  Yates Blvd & 93rd St  41.726206 -87.566314         1\n",
       "1321384  Yates Blvd & 93rd St  41.726206 -87.566375         1\n",
       "\n",
       "[1321385 rows x 4 columns]"
      ]
     },
     "execution_count": 37,
     "metadata": {},
     "output_type": "execute_result"
    }
   ],
   "source": [
    "start_station = pd.pivot_table(case_1, index=['start_station_name', 'start_lat', 'start_lng',], aggfunc={'start_station_name':np.size})\n",
    "start_station= start_station.rename(columns={'start_station_name':'num_trip'})\n",
    "start_station = start_station.reset_index()\n",
    "start_station"
   ]
  },
  {
   "cell_type": "code",
   "execution_count": null,
   "metadata": {},
   "outputs": [
    {
     "data": {
      "text/html": [
       "<div>\n",
       "<style scoped>\n",
       "    .dataframe tbody tr th:only-of-type {\n",
       "        vertical-align: middle;\n",
       "    }\n",
       "\n",
       "    .dataframe tbody tr th {\n",
       "        vertical-align: top;\n",
       "    }\n",
       "\n",
       "    .dataframe thead th {\n",
       "        text-align: right;\n",
       "    }\n",
       "</style>\n",
       "<table border=\"1\" class=\"dataframe\">\n",
       "  <thead>\n",
       "    <tr style=\"text-align: right;\">\n",
       "      <th></th>\n",
       "      <th>start_station_name</th>\n",
       "      <th>start_lat</th>\n",
       "      <th>start_lng</th>\n",
       "      <th>num_trip</th>\n",
       "    </tr>\n",
       "  </thead>\n",
       "  <tbody>\n",
       "    <tr>\n",
       "      <th>1148006</th>\n",
       "      <td>Streeter Dr &amp; Grand Ave</td>\n",
       "      <td>41.892278</td>\n",
       "      <td>-87.612043</td>\n",
       "      <td>70929</td>\n",
       "    </tr>\n",
       "    <tr>\n",
       "      <th>1158533</th>\n",
       "      <td>Theater on the Lake</td>\n",
       "      <td>41.926277</td>\n",
       "      <td>-87.630834</td>\n",
       "      <td>32926</td>\n",
       "    </tr>\n",
       "    <tr>\n",
       "      <th>1217855</th>\n",
       "      <td>Wells St &amp; Concord Ln</td>\n",
       "      <td>41.912133</td>\n",
       "      <td>-87.634656</td>\n",
       "      <td>32799</td>\n",
       "    </tr>\n",
       "    <tr>\n",
       "      <th>228979</th>\n",
       "      <td>Clark St &amp; Elm St</td>\n",
       "      <td>41.902973</td>\n",
       "      <td>-87.631280</td>\n",
       "      <td>32183</td>\n",
       "    </tr>\n",
       "    <tr>\n",
       "      <th>813038</th>\n",
       "      <td>Michigan Ave &amp; Oak St</td>\n",
       "      <td>41.900960</td>\n",
       "      <td>-87.623777</td>\n",
       "      <td>29640</td>\n",
       "    </tr>\n",
       "  </tbody>\n",
       "</table>\n",
       "</div>"
      ],
      "text/plain": [
       "              start_station_name  start_lat  start_lng  num_trip\n",
       "1148006  Streeter Dr & Grand Ave  41.892278 -87.612043     70929\n",
       "1158533      Theater on the Lake  41.926277 -87.630834     32926\n",
       "1217855    Wells St & Concord Ln  41.912133 -87.634656     32799\n",
       "228979         Clark St & Elm St  41.902973 -87.631280     32183\n",
       "813038     Michigan Ave & Oak St  41.900960 -87.623777     29640"
      ]
     },
     "execution_count": 38,
     "metadata": {},
     "output_type": "execute_result"
    }
   ],
   "source": [
    "#Top 5 start station used by users\n",
    "start_station_top5 = start_station.sort_values(by=['num_trip'], ascending=False).head(5)\n",
    "start_station_top5"
   ]
  },
  {
   "cell_type": "code",
   "execution_count": null,
   "metadata": {},
   "outputs": [
    {
     "data": {
      "application/vnd.plotly.v1+json": {
       "config": {
        "plotlyServerURL": "https://plot.ly"
       },
       "data": [
        {
         "customdata": [
          [
           "Streeter Dr & Grand Ave",
           70929
          ],
          [
           "Theater on the Lake",
           32926
          ],
          [
           "Wells St & Concord Ln",
           32799
          ],
          [
           "Clark St & Elm St",
           32183
          ],
          [
           "Michigan Ave & Oak St",
           29640
          ]
         ],
         "hovertemplate": "<b>%{hovertext}</b><br><br>num_trip=%{marker.color}<br>start_station_name=%{customdata[0]}<br>start_lat=%{lat}<br>start_lng=%{lon}<extra></extra>",
         "hovertext": [
          "Streeter Dr & Grand Ave",
          "Theater on the Lake",
          "Wells St & Concord Ln",
          "Clark St & Elm St",
          "Michigan Ave & Oak St"
         ],
         "lat": [
          41.892278,
          41.926277,
          41.912133,
          41.902973,
          41.90096039
         ],
         "legendgroup": "",
         "lon": [
          -87.612043,
          -87.630834,
          -87.634656,
          -87.63128,
          -87.62377664
         ],
         "marker": {
          "color": [
           70929,
           32926,
           32799,
           32183,
           29640
          ],
          "coloraxis": "coloraxis",
          "opacity": 0.5,
          "size": [
           70929,
           32926,
           32799,
           32183,
           29640
          ],
          "sizemode": "area",
          "sizeref": 177.3225
         },
         "mode": "markers+text",
         "name": "",
         "showlegend": false,
         "subplot": "mapbox",
         "text": [
          "Streeter Dr & Grand Ave",
          "Theater on the Lake",
          "Wells St & Concord Ln",
          "Clark St & Elm St",
          "Michigan Ave & Oak St"
         ],
         "type": "scattermapbox"
        }
       ],
       "layout": {
        "coloraxis": {
         "colorbar": {
          "title": {
           "text": "num_trip"
          }
         },
         "colorscale": [
          [
           0,
           "rgb(253, 237, 176)"
          ],
          [
           0.09090909090909091,
           "rgb(250, 205, 145)"
          ],
          [
           0.18181818181818182,
           "rgb(246, 173, 119)"
          ],
          [
           0.2727272727272727,
           "rgb(240, 142, 98)"
          ],
          [
           0.36363636363636365,
           "rgb(231, 109, 84)"
          ],
          [
           0.45454545454545453,
           "rgb(216, 80, 83)"
          ],
          [
           0.5454545454545454,
           "rgb(195, 56, 90)"
          ],
          [
           0.6363636363636364,
           "rgb(168, 40, 96)"
          ],
          [
           0.7272727272727273,
           "rgb(138, 29, 99)"
          ],
          [
           0.8181818181818182,
           "rgb(107, 24, 93)"
          ],
          [
           0.9090909090909091,
           "rgb(76, 21, 80)"
          ],
          [
           1,
           "rgb(47, 15, 61)"
          ]
         ]
        },
        "legend": {
         "itemsizing": "constant",
         "tracegroupgap": 0
        },
        "mapbox": {
         "accesstoken": "pk.eyJ1IjoiaGFtaWJvIiwiYSI6ImNrN2N2Ym5uYTAybzEzb256cmk2NGtjeTUifQ.3qaqDjFrZdS3sqeoPeJG-w",
         "center": {
          "lat": 41.906924278000005,
          "lon": -87.626517928
         },
         "domain": {
          "x": [
           0,
           1
          ],
          "y": [
           0,
           1
          ]
         },
         "zoom": 11
        },
        "margin": {
         "b": 0,
         "l": 0,
         "r": 0,
         "t": 0
        },
        "template": {
         "data": {
          "bar": [
           {
            "error_x": {
             "color": "#2a3f5f"
            },
            "error_y": {
             "color": "#2a3f5f"
            },
            "marker": {
             "line": {
              "color": "#E5ECF6",
              "width": 0.5
             },
             "pattern": {
              "fillmode": "overlay",
              "size": 10,
              "solidity": 0.2
             }
            },
            "type": "bar"
           }
          ],
          "barpolar": [
           {
            "marker": {
             "line": {
              "color": "#E5ECF6",
              "width": 0.5
             },
             "pattern": {
              "fillmode": "overlay",
              "size": 10,
              "solidity": 0.2
             }
            },
            "type": "barpolar"
           }
          ],
          "carpet": [
           {
            "aaxis": {
             "endlinecolor": "#2a3f5f",
             "gridcolor": "white",
             "linecolor": "white",
             "minorgridcolor": "white",
             "startlinecolor": "#2a3f5f"
            },
            "baxis": {
             "endlinecolor": "#2a3f5f",
             "gridcolor": "white",
             "linecolor": "white",
             "minorgridcolor": "white",
             "startlinecolor": "#2a3f5f"
            },
            "type": "carpet"
           }
          ],
          "choropleth": [
           {
            "colorbar": {
             "outlinewidth": 0,
             "ticks": ""
            },
            "type": "choropleth"
           }
          ],
          "contour": [
           {
            "colorbar": {
             "outlinewidth": 0,
             "ticks": ""
            },
            "colorscale": [
             [
              0,
              "#0d0887"
             ],
             [
              0.1111111111111111,
              "#46039f"
             ],
             [
              0.2222222222222222,
              "#7201a8"
             ],
             [
              0.3333333333333333,
              "#9c179e"
             ],
             [
              0.4444444444444444,
              "#bd3786"
             ],
             [
              0.5555555555555556,
              "#d8576b"
             ],
             [
              0.6666666666666666,
              "#ed7953"
             ],
             [
              0.7777777777777778,
              "#fb9f3a"
             ],
             [
              0.8888888888888888,
              "#fdca26"
             ],
             [
              1,
              "#f0f921"
             ]
            ],
            "type": "contour"
           }
          ],
          "contourcarpet": [
           {
            "colorbar": {
             "outlinewidth": 0,
             "ticks": ""
            },
            "type": "contourcarpet"
           }
          ],
          "heatmap": [
           {
            "colorbar": {
             "outlinewidth": 0,
             "ticks": ""
            },
            "colorscale": [
             [
              0,
              "#0d0887"
             ],
             [
              0.1111111111111111,
              "#46039f"
             ],
             [
              0.2222222222222222,
              "#7201a8"
             ],
             [
              0.3333333333333333,
              "#9c179e"
             ],
             [
              0.4444444444444444,
              "#bd3786"
             ],
             [
              0.5555555555555556,
              "#d8576b"
             ],
             [
              0.6666666666666666,
              "#ed7953"
             ],
             [
              0.7777777777777778,
              "#fb9f3a"
             ],
             [
              0.8888888888888888,
              "#fdca26"
             ],
             [
              1,
              "#f0f921"
             ]
            ],
            "type": "heatmap"
           }
          ],
          "heatmapgl": [
           {
            "colorbar": {
             "outlinewidth": 0,
             "ticks": ""
            },
            "colorscale": [
             [
              0,
              "#0d0887"
             ],
             [
              0.1111111111111111,
              "#46039f"
             ],
             [
              0.2222222222222222,
              "#7201a8"
             ],
             [
              0.3333333333333333,
              "#9c179e"
             ],
             [
              0.4444444444444444,
              "#bd3786"
             ],
             [
              0.5555555555555556,
              "#d8576b"
             ],
             [
              0.6666666666666666,
              "#ed7953"
             ],
             [
              0.7777777777777778,
              "#fb9f3a"
             ],
             [
              0.8888888888888888,
              "#fdca26"
             ],
             [
              1,
              "#f0f921"
             ]
            ],
            "type": "heatmapgl"
           }
          ],
          "histogram": [
           {
            "marker": {
             "pattern": {
              "fillmode": "overlay",
              "size": 10,
              "solidity": 0.2
             }
            },
            "type": "histogram"
           }
          ],
          "histogram2d": [
           {
            "colorbar": {
             "outlinewidth": 0,
             "ticks": ""
            },
            "colorscale": [
             [
              0,
              "#0d0887"
             ],
             [
              0.1111111111111111,
              "#46039f"
             ],
             [
              0.2222222222222222,
              "#7201a8"
             ],
             [
              0.3333333333333333,
              "#9c179e"
             ],
             [
              0.4444444444444444,
              "#bd3786"
             ],
             [
              0.5555555555555556,
              "#d8576b"
             ],
             [
              0.6666666666666666,
              "#ed7953"
             ],
             [
              0.7777777777777778,
              "#fb9f3a"
             ],
             [
              0.8888888888888888,
              "#fdca26"
             ],
             [
              1,
              "#f0f921"
             ]
            ],
            "type": "histogram2d"
           }
          ],
          "histogram2dcontour": [
           {
            "colorbar": {
             "outlinewidth": 0,
             "ticks": ""
            },
            "colorscale": [
             [
              0,
              "#0d0887"
             ],
             [
              0.1111111111111111,
              "#46039f"
             ],
             [
              0.2222222222222222,
              "#7201a8"
             ],
             [
              0.3333333333333333,
              "#9c179e"
             ],
             [
              0.4444444444444444,
              "#bd3786"
             ],
             [
              0.5555555555555556,
              "#d8576b"
             ],
             [
              0.6666666666666666,
              "#ed7953"
             ],
             [
              0.7777777777777778,
              "#fb9f3a"
             ],
             [
              0.8888888888888888,
              "#fdca26"
             ],
             [
              1,
              "#f0f921"
             ]
            ],
            "type": "histogram2dcontour"
           }
          ],
          "mesh3d": [
           {
            "colorbar": {
             "outlinewidth": 0,
             "ticks": ""
            },
            "type": "mesh3d"
           }
          ],
          "parcoords": [
           {
            "line": {
             "colorbar": {
              "outlinewidth": 0,
              "ticks": ""
             }
            },
            "type": "parcoords"
           }
          ],
          "pie": [
           {
            "automargin": true,
            "type": "pie"
           }
          ],
          "scatter": [
           {
            "marker": {
             "colorbar": {
              "outlinewidth": 0,
              "ticks": ""
             }
            },
            "type": "scatter"
           }
          ],
          "scatter3d": [
           {
            "line": {
             "colorbar": {
              "outlinewidth": 0,
              "ticks": ""
             }
            },
            "marker": {
             "colorbar": {
              "outlinewidth": 0,
              "ticks": ""
             }
            },
            "type": "scatter3d"
           }
          ],
          "scattercarpet": [
           {
            "marker": {
             "colorbar": {
              "outlinewidth": 0,
              "ticks": ""
             }
            },
            "type": "scattercarpet"
           }
          ],
          "scattergeo": [
           {
            "marker": {
             "colorbar": {
              "outlinewidth": 0,
              "ticks": ""
             }
            },
            "type": "scattergeo"
           }
          ],
          "scattergl": [
           {
            "marker": {
             "colorbar": {
              "outlinewidth": 0,
              "ticks": ""
             }
            },
            "type": "scattergl"
           }
          ],
          "scattermapbox": [
           {
            "marker": {
             "colorbar": {
              "outlinewidth": 0,
              "ticks": ""
             }
            },
            "type": "scattermapbox"
           }
          ],
          "scatterpolar": [
           {
            "marker": {
             "colorbar": {
              "outlinewidth": 0,
              "ticks": ""
             }
            },
            "type": "scatterpolar"
           }
          ],
          "scatterpolargl": [
           {
            "marker": {
             "colorbar": {
              "outlinewidth": 0,
              "ticks": ""
             }
            },
            "type": "scatterpolargl"
           }
          ],
          "scatterternary": [
           {
            "marker": {
             "colorbar": {
              "outlinewidth": 0,
              "ticks": ""
             }
            },
            "type": "scatterternary"
           }
          ],
          "surface": [
           {
            "colorbar": {
             "outlinewidth": 0,
             "ticks": ""
            },
            "colorscale": [
             [
              0,
              "#0d0887"
             ],
             [
              0.1111111111111111,
              "#46039f"
             ],
             [
              0.2222222222222222,
              "#7201a8"
             ],
             [
              0.3333333333333333,
              "#9c179e"
             ],
             [
              0.4444444444444444,
              "#bd3786"
             ],
             [
              0.5555555555555556,
              "#d8576b"
             ],
             [
              0.6666666666666666,
              "#ed7953"
             ],
             [
              0.7777777777777778,
              "#fb9f3a"
             ],
             [
              0.8888888888888888,
              "#fdca26"
             ],
             [
              1,
              "#f0f921"
             ]
            ],
            "type": "surface"
           }
          ],
          "table": [
           {
            "cells": {
             "fill": {
              "color": "#EBF0F8"
             },
             "line": {
              "color": "white"
             }
            },
            "header": {
             "fill": {
              "color": "#C8D4E3"
             },
             "line": {
              "color": "white"
             }
            },
            "type": "table"
           }
          ]
         },
         "layout": {
          "annotationdefaults": {
           "arrowcolor": "#2a3f5f",
           "arrowhead": 0,
           "arrowwidth": 1
          },
          "autotypenumbers": "strict",
          "coloraxis": {
           "colorbar": {
            "outlinewidth": 0,
            "ticks": ""
           }
          },
          "colorscale": {
           "diverging": [
            [
             0,
             "#8e0152"
            ],
            [
             0.1,
             "#c51b7d"
            ],
            [
             0.2,
             "#de77ae"
            ],
            [
             0.3,
             "#f1b6da"
            ],
            [
             0.4,
             "#fde0ef"
            ],
            [
             0.5,
             "#f7f7f7"
            ],
            [
             0.6,
             "#e6f5d0"
            ],
            [
             0.7,
             "#b8e186"
            ],
            [
             0.8,
             "#7fbc41"
            ],
            [
             0.9,
             "#4d9221"
            ],
            [
             1,
             "#276419"
            ]
           ],
           "sequential": [
            [
             0,
             "#0d0887"
            ],
            [
             0.1111111111111111,
             "#46039f"
            ],
            [
             0.2222222222222222,
             "#7201a8"
            ],
            [
             0.3333333333333333,
             "#9c179e"
            ],
            [
             0.4444444444444444,
             "#bd3786"
            ],
            [
             0.5555555555555556,
             "#d8576b"
            ],
            [
             0.6666666666666666,
             "#ed7953"
            ],
            [
             0.7777777777777778,
             "#fb9f3a"
            ],
            [
             0.8888888888888888,
             "#fdca26"
            ],
            [
             1,
             "#f0f921"
            ]
           ],
           "sequentialminus": [
            [
             0,
             "#0d0887"
            ],
            [
             0.1111111111111111,
             "#46039f"
            ],
            [
             0.2222222222222222,
             "#7201a8"
            ],
            [
             0.3333333333333333,
             "#9c179e"
            ],
            [
             0.4444444444444444,
             "#bd3786"
            ],
            [
             0.5555555555555556,
             "#d8576b"
            ],
            [
             0.6666666666666666,
             "#ed7953"
            ],
            [
             0.7777777777777778,
             "#fb9f3a"
            ],
            [
             0.8888888888888888,
             "#fdca26"
            ],
            [
             1,
             "#f0f921"
            ]
           ]
          },
          "colorway": [
           "#636efa",
           "#EF553B",
           "#00cc96",
           "#ab63fa",
           "#FFA15A",
           "#19d3f3",
           "#FF6692",
           "#B6E880",
           "#FF97FF",
           "#FECB52"
          ],
          "font": {
           "color": "#2a3f5f"
          },
          "geo": {
           "bgcolor": "white",
           "lakecolor": "white",
           "landcolor": "#E5ECF6",
           "showlakes": true,
           "showland": true,
           "subunitcolor": "white"
          },
          "hoverlabel": {
           "align": "left"
          },
          "hovermode": "closest",
          "mapbox": {
           "style": "light"
          },
          "paper_bgcolor": "white",
          "plot_bgcolor": "#E5ECF6",
          "polar": {
           "angularaxis": {
            "gridcolor": "white",
            "linecolor": "white",
            "ticks": ""
           },
           "bgcolor": "#E5ECF6",
           "radialaxis": {
            "gridcolor": "white",
            "linecolor": "white",
            "ticks": ""
           }
          },
          "scene": {
           "xaxis": {
            "backgroundcolor": "#E5ECF6",
            "gridcolor": "white",
            "gridwidth": 2,
            "linecolor": "white",
            "showbackground": true,
            "ticks": "",
            "zerolinecolor": "white"
           },
           "yaxis": {
            "backgroundcolor": "#E5ECF6",
            "gridcolor": "white",
            "gridwidth": 2,
            "linecolor": "white",
            "showbackground": true,
            "ticks": "",
            "zerolinecolor": "white"
           },
           "zaxis": {
            "backgroundcolor": "#E5ECF6",
            "gridcolor": "white",
            "gridwidth": 2,
            "linecolor": "white",
            "showbackground": true,
            "ticks": "",
            "zerolinecolor": "white"
           }
          },
          "shapedefaults": {
           "line": {
            "color": "#2a3f5f"
           }
          },
          "ternary": {
           "aaxis": {
            "gridcolor": "white",
            "linecolor": "white",
            "ticks": ""
           },
           "baxis": {
            "gridcolor": "white",
            "linecolor": "white",
            "ticks": ""
           },
           "bgcolor": "#E5ECF6",
           "caxis": {
            "gridcolor": "white",
            "linecolor": "white",
            "ticks": ""
           }
          },
          "title": {
           "x": 0.05
          },
          "xaxis": {
           "automargin": true,
           "gridcolor": "white",
           "linecolor": "white",
           "ticks": "",
           "title": {
            "standoff": 15
           },
           "zerolinecolor": "white",
           "zerolinewidth": 2
          },
          "yaxis": {
           "automargin": true,
           "gridcolor": "white",
           "linecolor": "white",
           "ticks": "",
           "title": {
            "standoff": 15
           },
           "zerolinecolor": "white",
           "zerolinewidth": 2
          }
         }
        }
       }
      }
     },
     "metadata": {},
     "output_type": "display_data"
    }
   ],
   "source": [
    "#Geolocation Top 5 start station used by users\n",
    "import plotly_express as px\n",
    "mapbox_access_token = 'pk.eyJ1IjoiaGFtaWJvIiwiYSI6ImNrN2N2Ym5uYTAybzEzb256cmk2NGtjeTUifQ.3qaqDjFrZdS3sqeoPeJG-w'\n",
    "px.set_mapbox_access_token(mapbox_access_token)\n",
    "fig = px.scatter_mapbox(start_station_top5, color='num_trip', color_continuous_scale=px.colors.sequential.matter,\n",
    "    lat ='start_lat', lon= 'start_lng', size ='num_trip', zoom=11, opacity=0.5, text='start_station_name', \n",
    "    hover_name=\"start_station_name\", hover_data=[\"start_station_name\", \"num_trip\"])\n",
    "fig.update_layout(margin={\"r\":0,\"t\":0,\"l\":0,\"b\":0})\n",
    "fig.show()"
   ]
  },
  {
   "cell_type": "markdown",
   "metadata": {},
   "source": [
    "# ![title](top5startstation.png)"
   ]
  },
  {
   "cell_type": "code",
   "execution_count": null,
   "metadata": {},
   "outputs": [
    {
     "data": {
      "text/html": [
       "<div>\n",
       "<style scoped>\n",
       "    .dataframe tbody tr th:only-of-type {\n",
       "        vertical-align: middle;\n",
       "    }\n",
       "\n",
       "    .dataframe tbody tr th {\n",
       "        vertical-align: top;\n",
       "    }\n",
       "\n",
       "    .dataframe thead th {\n",
       "        text-align: right;\n",
       "    }\n",
       "</style>\n",
       "<table border=\"1\" class=\"dataframe\">\n",
       "  <thead>\n",
       "    <tr style=\"text-align: right;\">\n",
       "      <th></th>\n",
       "      <th>start_station_name</th>\n",
       "      <th>start_lat</th>\n",
       "      <th>start_lng</th>\n",
       "      <th>member_casual</th>\n",
       "      <th>num_trip</th>\n",
       "    </tr>\n",
       "  </thead>\n",
       "  <tbody>\n",
       "    <tr>\n",
       "      <th>0</th>\n",
       "      <td>2112 W Peterson Ave</td>\n",
       "      <td>41.991062</td>\n",
       "      <td>-87.683560</td>\n",
       "      <td>member</td>\n",
       "      <td>2</td>\n",
       "    </tr>\n",
       "    <tr>\n",
       "      <th>1</th>\n",
       "      <td>2112 W Peterson Ave</td>\n",
       "      <td>41.991082</td>\n",
       "      <td>-87.683676</td>\n",
       "      <td>member</td>\n",
       "      <td>1</td>\n",
       "    </tr>\n",
       "    <tr>\n",
       "      <th>2</th>\n",
       "      <td>2112 W Peterson Ave</td>\n",
       "      <td>41.991082</td>\n",
       "      <td>-87.683605</td>\n",
       "      <td>member</td>\n",
       "      <td>1</td>\n",
       "    </tr>\n",
       "    <tr>\n",
       "      <th>3</th>\n",
       "      <td>2112 W Peterson Ave</td>\n",
       "      <td>41.991097</td>\n",
       "      <td>-87.683590</td>\n",
       "      <td>member</td>\n",
       "      <td>1</td>\n",
       "    </tr>\n",
       "    <tr>\n",
       "      <th>4</th>\n",
       "      <td>2112 W Peterson Ave</td>\n",
       "      <td>41.991105</td>\n",
       "      <td>-87.683563</td>\n",
       "      <td>member</td>\n",
       "      <td>1</td>\n",
       "    </tr>\n",
       "    <tr>\n",
       "      <th>...</th>\n",
       "      <td>...</td>\n",
       "      <td>...</td>\n",
       "      <td>...</td>\n",
       "      <td>...</td>\n",
       "      <td>...</td>\n",
       "    </tr>\n",
       "    <tr>\n",
       "      <th>701194</th>\n",
       "      <td>Yates Blvd &amp; 93rd St</td>\n",
       "      <td>41.726187</td>\n",
       "      <td>-87.566353</td>\n",
       "      <td>member</td>\n",
       "      <td>1</td>\n",
       "    </tr>\n",
       "    <tr>\n",
       "      <th>701195</th>\n",
       "      <td>Yates Blvd &amp; 93rd St</td>\n",
       "      <td>41.726189</td>\n",
       "      <td>-87.566373</td>\n",
       "      <td>member</td>\n",
       "      <td>1</td>\n",
       "    </tr>\n",
       "    <tr>\n",
       "      <th>701196</th>\n",
       "      <td>Yates Blvd &amp; 93rd St</td>\n",
       "      <td>41.726202</td>\n",
       "      <td>-87.566294</td>\n",
       "      <td>member</td>\n",
       "      <td>1</td>\n",
       "    </tr>\n",
       "    <tr>\n",
       "      <th>701197</th>\n",
       "      <td>Yates Blvd &amp; 93rd St</td>\n",
       "      <td>41.726203</td>\n",
       "      <td>-87.566301</td>\n",
       "      <td>member</td>\n",
       "      <td>1</td>\n",
       "    </tr>\n",
       "    <tr>\n",
       "      <th>701198</th>\n",
       "      <td>Yates Blvd &amp; 93rd St</td>\n",
       "      <td>41.726206</td>\n",
       "      <td>-87.566314</td>\n",
       "      <td>member</td>\n",
       "      <td>1</td>\n",
       "    </tr>\n",
       "  </tbody>\n",
       "</table>\n",
       "<p>701199 rows × 5 columns</p>\n",
       "</div>"
      ],
      "text/plain": [
       "          start_station_name  start_lat  start_lng member_casual  num_trip\n",
       "0        2112 W Peterson Ave  41.991062 -87.683560        member         2\n",
       "1        2112 W Peterson Ave  41.991082 -87.683676        member         1\n",
       "2        2112 W Peterson Ave  41.991082 -87.683605        member         1\n",
       "3        2112 W Peterson Ave  41.991097 -87.683590        member         1\n",
       "4        2112 W Peterson Ave  41.991105 -87.683563        member         1\n",
       "...                      ...        ...        ...           ...       ...\n",
       "701194  Yates Blvd & 93rd St  41.726187 -87.566353        member         1\n",
       "701195  Yates Blvd & 93rd St  41.726189 -87.566373        member         1\n",
       "701196  Yates Blvd & 93rd St  41.726202 -87.566294        member         1\n",
       "701197  Yates Blvd & 93rd St  41.726203 -87.566301        member         1\n",
       "701198  Yates Blvd & 93rd St  41.726206 -87.566314        member         1\n",
       "\n",
       "[701199 rows x 5 columns]"
      ]
     },
     "execution_count": 40,
     "metadata": {},
     "output_type": "execute_result"
    }
   ],
   "source": [
    "#Top 5 start station used by members\n",
    "mem_start_station = pd.pivot_table(case_1[case_1.member_casual=='member'], index=['start_station_name', 'start_lat', 'start_lng','member_casual'], aggfunc={'start_station_name':np.size})\n",
    "mem_start_station= mem_start_station.rename(columns={'start_station_name':'num_trip'})\n",
    "mem_start_station = mem_start_station.reset_index()\n",
    "mem_start_station"
   ]
  },
  {
   "cell_type": "code",
   "execution_count": null,
   "metadata": {},
   "outputs": [
    {
     "data": {
      "text/html": [
       "<div>\n",
       "<style scoped>\n",
       "    .dataframe tbody tr th:only-of-type {\n",
       "        vertical-align: middle;\n",
       "    }\n",
       "\n",
       "    .dataframe tbody tr th {\n",
       "        vertical-align: top;\n",
       "    }\n",
       "\n",
       "    .dataframe thead th {\n",
       "        text-align: right;\n",
       "    }\n",
       "</style>\n",
       "<table border=\"1\" class=\"dataframe\">\n",
       "  <thead>\n",
       "    <tr style=\"text-align: right;\">\n",
       "      <th></th>\n",
       "      <th>start_station_name</th>\n",
       "      <th>start_lat</th>\n",
       "      <th>start_lng</th>\n",
       "      <th>member_casual</th>\n",
       "      <th>num_trip</th>\n",
       "    </tr>\n",
       "  </thead>\n",
       "  <tbody>\n",
       "    <tr>\n",
       "      <th>122297</th>\n",
       "      <td>Clark St &amp; Elm St</td>\n",
       "      <td>41.902973</td>\n",
       "      <td>-87.631280</td>\n",
       "      <td>member</td>\n",
       "      <td>20151</td>\n",
       "    </tr>\n",
       "    <tr>\n",
       "      <th>643922</th>\n",
       "      <td>Wells St &amp; Concord Ln</td>\n",
       "      <td>41.912133</td>\n",
       "      <td>-87.634656</td>\n",
       "      <td>member</td>\n",
       "      <td>18230</td>\n",
       "    </tr>\n",
       "    <tr>\n",
       "      <th>344270</th>\n",
       "      <td>Kingsbury St &amp; Kinzie St</td>\n",
       "      <td>41.889177</td>\n",
       "      <td>-87.638506</td>\n",
       "      <td>member</td>\n",
       "      <td>17988</td>\n",
       "    </tr>\n",
       "    <tr>\n",
       "      <th>648916</th>\n",
       "      <td>Wells St &amp; Elm St</td>\n",
       "      <td>41.903222</td>\n",
       "      <td>-87.634324</td>\n",
       "      <td>member</td>\n",
       "      <td>16467</td>\n",
       "    </tr>\n",
       "    <tr>\n",
       "      <th>37195</th>\n",
       "      <td>Broadway &amp; Barry Ave</td>\n",
       "      <td>41.937582</td>\n",
       "      <td>-87.644098</td>\n",
       "      <td>member</td>\n",
       "      <td>14730</td>\n",
       "    </tr>\n",
       "  </tbody>\n",
       "</table>\n",
       "</div>"
      ],
      "text/plain": [
       "              start_station_name  start_lat  start_lng member_casual  num_trip\n",
       "122297         Clark St & Elm St  41.902973 -87.631280        member     20151\n",
       "643922     Wells St & Concord Ln  41.912133 -87.634656        member     18230\n",
       "344270  Kingsbury St & Kinzie St  41.889177 -87.638506        member     17988\n",
       "648916         Wells St & Elm St  41.903222 -87.634324        member     16467\n",
       "37195       Broadway & Barry Ave  41.937582 -87.644098        member     14730"
      ]
     },
     "execution_count": 41,
     "metadata": {},
     "output_type": "execute_result"
    }
   ],
   "source": [
    "mem_start_station_top5 = mem_start_station.sort_values(by=['num_trip'], ascending=False).head(5)\n",
    "mem_start_station_top5"
   ]
  },
  {
   "cell_type": "code",
   "execution_count": null,
   "metadata": {},
   "outputs": [
    {
     "data": {
      "text/html": [
       "<div>\n",
       "<style scoped>\n",
       "    .dataframe tbody tr th:only-of-type {\n",
       "        vertical-align: middle;\n",
       "    }\n",
       "\n",
       "    .dataframe tbody tr th {\n",
       "        vertical-align: top;\n",
       "    }\n",
       "\n",
       "    .dataframe thead th {\n",
       "        text-align: right;\n",
       "    }\n",
       "</style>\n",
       "<table border=\"1\" class=\"dataframe\">\n",
       "  <thead>\n",
       "    <tr style=\"text-align: right;\">\n",
       "      <th></th>\n",
       "      <th>start_station_name</th>\n",
       "      <th>start_lat</th>\n",
       "      <th>start_lng</th>\n",
       "      <th>member_casual</th>\n",
       "      <th>num_trip</th>\n",
       "    </tr>\n",
       "  </thead>\n",
       "  <tbody>\n",
       "    <tr>\n",
       "      <th>0</th>\n",
       "      <td>2112 W Peterson Ave</td>\n",
       "      <td>41.991067</td>\n",
       "      <td>-87.683616</td>\n",
       "      <td>casual</td>\n",
       "      <td>1</td>\n",
       "    </tr>\n",
       "    <tr>\n",
       "      <th>1</th>\n",
       "      <td>2112 W Peterson Ave</td>\n",
       "      <td>41.991095</td>\n",
       "      <td>-87.683559</td>\n",
       "      <td>casual</td>\n",
       "      <td>1</td>\n",
       "    </tr>\n",
       "    <tr>\n",
       "      <th>2</th>\n",
       "      <td>2112 W Peterson Ave</td>\n",
       "      <td>41.991099</td>\n",
       "      <td>-87.683629</td>\n",
       "      <td>casual</td>\n",
       "      <td>1</td>\n",
       "    </tr>\n",
       "    <tr>\n",
       "      <th>3</th>\n",
       "      <td>2112 W Peterson Ave</td>\n",
       "      <td>41.991102</td>\n",
       "      <td>-87.683617</td>\n",
       "      <td>casual</td>\n",
       "      <td>1</td>\n",
       "    </tr>\n",
       "    <tr>\n",
       "      <th>4</th>\n",
       "      <td>2112 W Peterson Ave</td>\n",
       "      <td>41.991104</td>\n",
       "      <td>-87.683552</td>\n",
       "      <td>casual</td>\n",
       "      <td>1</td>\n",
       "    </tr>\n",
       "    <tr>\n",
       "      <th>...</th>\n",
       "      <td>...</td>\n",
       "      <td>...</td>\n",
       "      <td>...</td>\n",
       "      <td>...</td>\n",
       "      <td>...</td>\n",
       "    </tr>\n",
       "    <tr>\n",
       "      <th>621859</th>\n",
       "      <td>Yates Blvd &amp; 93rd St</td>\n",
       "      <td>41.726177</td>\n",
       "      <td>-87.566430</td>\n",
       "      <td>casual</td>\n",
       "      <td>1</td>\n",
       "    </tr>\n",
       "    <tr>\n",
       "      <th>621860</th>\n",
       "      <td>Yates Blvd &amp; 93rd St</td>\n",
       "      <td>41.726179</td>\n",
       "      <td>-87.566377</td>\n",
       "      <td>casual</td>\n",
       "      <td>1</td>\n",
       "    </tr>\n",
       "    <tr>\n",
       "      <th>621861</th>\n",
       "      <td>Yates Blvd &amp; 93rd St</td>\n",
       "      <td>41.726184</td>\n",
       "      <td>-87.566331</td>\n",
       "      <td>casual</td>\n",
       "      <td>1</td>\n",
       "    </tr>\n",
       "    <tr>\n",
       "      <th>621862</th>\n",
       "      <td>Yates Blvd &amp; 93rd St</td>\n",
       "      <td>41.726188</td>\n",
       "      <td>-87.566380</td>\n",
       "      <td>casual</td>\n",
       "      <td>1</td>\n",
       "    </tr>\n",
       "    <tr>\n",
       "      <th>621863</th>\n",
       "      <td>Yates Blvd &amp; 93rd St</td>\n",
       "      <td>41.726206</td>\n",
       "      <td>-87.566375</td>\n",
       "      <td>casual</td>\n",
       "      <td>1</td>\n",
       "    </tr>\n",
       "  </tbody>\n",
       "</table>\n",
       "<p>621864 rows × 5 columns</p>\n",
       "</div>"
      ],
      "text/plain": [
       "          start_station_name  start_lat  start_lng member_casual  num_trip\n",
       "0        2112 W Peterson Ave  41.991067 -87.683616        casual         1\n",
       "1        2112 W Peterson Ave  41.991095 -87.683559        casual         1\n",
       "2        2112 W Peterson Ave  41.991099 -87.683629        casual         1\n",
       "3        2112 W Peterson Ave  41.991102 -87.683617        casual         1\n",
       "4        2112 W Peterson Ave  41.991104 -87.683552        casual         1\n",
       "...                      ...        ...        ...           ...       ...\n",
       "621859  Yates Blvd & 93rd St  41.726177 -87.566430        casual         1\n",
       "621860  Yates Blvd & 93rd St  41.726179 -87.566377        casual         1\n",
       "621861  Yates Blvd & 93rd St  41.726184 -87.566331        casual         1\n",
       "621862  Yates Blvd & 93rd St  41.726188 -87.566380        casual         1\n",
       "621863  Yates Blvd & 93rd St  41.726206 -87.566375        casual         1\n",
       "\n",
       "[621864 rows x 5 columns]"
      ]
     },
     "execution_count": 42,
     "metadata": {},
     "output_type": "execute_result"
    }
   ],
   "source": [
    "#Top 5 start station used by casual users\n",
    "cas_start_station = pd.pivot_table(case_1[case_1.member_casual=='casual'], index=['start_station_name', 'start_lat', 'start_lng','member_casual'], aggfunc={'start_station_name':np.size})\n",
    "cas_start_station= cas_start_station.rename(columns={'start_station_name':'num_trip'})\n",
    "cas_start_station = cas_start_station.reset_index()\n",
    "cas_start_station"
   ]
  },
  {
   "cell_type": "code",
   "execution_count": null,
   "metadata": {},
   "outputs": [
    {
     "data": {
      "text/html": [
       "<div>\n",
       "<style scoped>\n",
       "    .dataframe tbody tr th:only-of-type {\n",
       "        vertical-align: middle;\n",
       "    }\n",
       "\n",
       "    .dataframe tbody tr th {\n",
       "        vertical-align: top;\n",
       "    }\n",
       "\n",
       "    .dataframe thead th {\n",
       "        text-align: right;\n",
       "    }\n",
       "</style>\n",
       "<table border=\"1\" class=\"dataframe\">\n",
       "  <thead>\n",
       "    <tr style=\"text-align: right;\">\n",
       "      <th></th>\n",
       "      <th>start_station_name</th>\n",
       "      <th>start_lat</th>\n",
       "      <th>start_lng</th>\n",
       "      <th>member_casual</th>\n",
       "      <th>num_trip</th>\n",
       "    </tr>\n",
       "  </thead>\n",
       "  <tbody>\n",
       "    <tr>\n",
       "      <th>541156</th>\n",
       "      <td>Streeter Dr &amp; Grand Ave</td>\n",
       "      <td>41.892278</td>\n",
       "      <td>-87.612043</td>\n",
       "      <td>casual</td>\n",
       "      <td>56933</td>\n",
       "    </tr>\n",
       "    <tr>\n",
       "      <th>548318</th>\n",
       "      <td>Theater on the Lake</td>\n",
       "      <td>41.926277</td>\n",
       "      <td>-87.630834</td>\n",
       "      <td>casual</td>\n",
       "      <td>18526</td>\n",
       "    </tr>\n",
       "    <tr>\n",
       "      <th>309103</th>\n",
       "      <td>Lake Shore Dr &amp; Monroe St</td>\n",
       "      <td>41.880958</td>\n",
       "      <td>-87.616743</td>\n",
       "      <td>casual</td>\n",
       "      <td>18401</td>\n",
       "    </tr>\n",
       "    <tr>\n",
       "      <th>390842</th>\n",
       "      <td>Millennium Park</td>\n",
       "      <td>41.881032</td>\n",
       "      <td>-87.624084</td>\n",
       "      <td>casual</td>\n",
       "      <td>18205</td>\n",
       "    </tr>\n",
       "    <tr>\n",
       "      <th>378095</th>\n",
       "      <td>Michigan Ave &amp; Oak St</td>\n",
       "      <td>41.900960</td>\n",
       "      <td>-87.623777</td>\n",
       "      <td>casual</td>\n",
       "      <td>17700</td>\n",
       "    </tr>\n",
       "  </tbody>\n",
       "</table>\n",
       "</div>"
      ],
      "text/plain": [
       "               start_station_name  start_lat  start_lng member_casual  \\\n",
       "541156    Streeter Dr & Grand Ave  41.892278 -87.612043        casual   \n",
       "548318        Theater on the Lake  41.926277 -87.630834        casual   \n",
       "309103  Lake Shore Dr & Monroe St  41.880958 -87.616743        casual   \n",
       "390842            Millennium Park  41.881032 -87.624084        casual   \n",
       "378095      Michigan Ave & Oak St  41.900960 -87.623777        casual   \n",
       "\n",
       "        num_trip  \n",
       "541156     56933  \n",
       "548318     18526  \n",
       "309103     18401  \n",
       "390842     18205  \n",
       "378095     17700  "
      ]
     },
     "execution_count": 43,
     "metadata": {},
     "output_type": "execute_result"
    }
   ],
   "source": [
    "cas_start_station_top5 = cas_start_station.sort_values(by=['num_trip'], ascending=False).head(5)\n",
    "cas_start_station_top5"
   ]
  },
  {
   "cell_type": "code",
   "execution_count": null,
   "metadata": {},
   "outputs": [
    {
     "data": {
      "text/html": [
       "<div>\n",
       "<style scoped>\n",
       "    .dataframe tbody tr th:only-of-type {\n",
       "        vertical-align: middle;\n",
       "    }\n",
       "\n",
       "    .dataframe tbody tr th {\n",
       "        vertical-align: top;\n",
       "    }\n",
       "\n",
       "    .dataframe thead th {\n",
       "        text-align: right;\n",
       "    }\n",
       "</style>\n",
       "<table border=\"1\" class=\"dataframe\">\n",
       "  <thead>\n",
       "    <tr style=\"text-align: right;\">\n",
       "      <th></th>\n",
       "      <th>start_station_name</th>\n",
       "      <th>start_lat</th>\n",
       "      <th>start_lng</th>\n",
       "      <th>member_casual</th>\n",
       "      <th>num_trip</th>\n",
       "    </tr>\n",
       "  </thead>\n",
       "  <tbody>\n",
       "    <tr>\n",
       "      <th>122297</th>\n",
       "      <td>Clark St &amp; Elm St</td>\n",
       "      <td>41.902973</td>\n",
       "      <td>-87.631280</td>\n",
       "      <td>member</td>\n",
       "      <td>20151</td>\n",
       "    </tr>\n",
       "    <tr>\n",
       "      <th>643922</th>\n",
       "      <td>Wells St &amp; Concord Ln</td>\n",
       "      <td>41.912133</td>\n",
       "      <td>-87.634656</td>\n",
       "      <td>member</td>\n",
       "      <td>18230</td>\n",
       "    </tr>\n",
       "    <tr>\n",
       "      <th>344270</th>\n",
       "      <td>Kingsbury St &amp; Kinzie St</td>\n",
       "      <td>41.889177</td>\n",
       "      <td>-87.638506</td>\n",
       "      <td>member</td>\n",
       "      <td>17988</td>\n",
       "    </tr>\n",
       "    <tr>\n",
       "      <th>648916</th>\n",
       "      <td>Wells St &amp; Elm St</td>\n",
       "      <td>41.903222</td>\n",
       "      <td>-87.634324</td>\n",
       "      <td>member</td>\n",
       "      <td>16467</td>\n",
       "    </tr>\n",
       "    <tr>\n",
       "      <th>37195</th>\n",
       "      <td>Broadway &amp; Barry Ave</td>\n",
       "      <td>41.937582</td>\n",
       "      <td>-87.644098</td>\n",
       "      <td>member</td>\n",
       "      <td>14730</td>\n",
       "    </tr>\n",
       "    <tr>\n",
       "      <th>541156</th>\n",
       "      <td>Streeter Dr &amp; Grand Ave</td>\n",
       "      <td>41.892278</td>\n",
       "      <td>-87.612043</td>\n",
       "      <td>casual</td>\n",
       "      <td>56933</td>\n",
       "    </tr>\n",
       "    <tr>\n",
       "      <th>548318</th>\n",
       "      <td>Theater on the Lake</td>\n",
       "      <td>41.926277</td>\n",
       "      <td>-87.630834</td>\n",
       "      <td>casual</td>\n",
       "      <td>18526</td>\n",
       "    </tr>\n",
       "    <tr>\n",
       "      <th>309103</th>\n",
       "      <td>Lake Shore Dr &amp; Monroe St</td>\n",
       "      <td>41.880958</td>\n",
       "      <td>-87.616743</td>\n",
       "      <td>casual</td>\n",
       "      <td>18401</td>\n",
       "    </tr>\n",
       "    <tr>\n",
       "      <th>390842</th>\n",
       "      <td>Millennium Park</td>\n",
       "      <td>41.881032</td>\n",
       "      <td>-87.624084</td>\n",
       "      <td>casual</td>\n",
       "      <td>18205</td>\n",
       "    </tr>\n",
       "    <tr>\n",
       "      <th>378095</th>\n",
       "      <td>Michigan Ave &amp; Oak St</td>\n",
       "      <td>41.900960</td>\n",
       "      <td>-87.623777</td>\n",
       "      <td>casual</td>\n",
       "      <td>17700</td>\n",
       "    </tr>\n",
       "  </tbody>\n",
       "</table>\n",
       "</div>"
      ],
      "text/plain": [
       "               start_station_name  start_lat  start_lng member_casual  \\\n",
       "122297          Clark St & Elm St  41.902973 -87.631280        member   \n",
       "643922      Wells St & Concord Ln  41.912133 -87.634656        member   \n",
       "344270   Kingsbury St & Kinzie St  41.889177 -87.638506        member   \n",
       "648916          Wells St & Elm St  41.903222 -87.634324        member   \n",
       "37195        Broadway & Barry Ave  41.937582 -87.644098        member   \n",
       "541156    Streeter Dr & Grand Ave  41.892278 -87.612043        casual   \n",
       "548318        Theater on the Lake  41.926277 -87.630834        casual   \n",
       "309103  Lake Shore Dr & Monroe St  41.880958 -87.616743        casual   \n",
       "390842            Millennium Park  41.881032 -87.624084        casual   \n",
       "378095      Michigan Ave & Oak St  41.900960 -87.623777        casual   \n",
       "\n",
       "        num_trip  \n",
       "122297     20151  \n",
       "643922     18230  \n",
       "344270     17988  \n",
       "648916     16467  \n",
       "37195      14730  \n",
       "541156     56933  \n",
       "548318     18526  \n",
       "309103     18401  \n",
       "390842     18205  \n",
       "378095     17700  "
      ]
     },
     "execution_count": 44,
     "metadata": {},
     "output_type": "execute_result"
    }
   ],
   "source": [
    "start_geo = pd.concat([mem_start_station_top5, cas_start_station_top5])\n",
    "start_geo"
   ]
  },
  {
   "cell_type": "code",
   "execution_count": null,
   "metadata": {},
   "outputs": [
    {
     "data": {
      "application/vnd.plotly.v1+json": {
       "config": {
        "plotlyServerURL": "https://plot.ly"
       },
       "data": [
        {
         "hovertemplate": "num_trip=%{marker.color}<br>start_station_name=%{text}<br>start_lat=%{lat}<br>start_lng=%{lon}<extra></extra>",
         "lat": [
          41.902973,
          41.912133,
          41.88917683258,
          41.903222,
          41.93758231600629
         ],
         "legendgroup": "",
         "lon": [
          -87.63128,
          -87.634656,
          -87.6385057718,
          -87.634324,
          -87.6440978050232
         ],
         "marker": {
          "color": [
           20151,
           18230,
           17988,
           16467,
           14730
          ],
          "coloraxis": "coloraxis",
          "opacity": 0.5,
          "size": [
           20151,
           18230,
           17988,
           16467,
           14730
          ],
          "sizemode": "area",
          "sizeref": 50.3775
         },
         "mode": "markers+text",
         "name": "",
         "showlegend": false,
         "subplot": "mapbox",
         "text": [
          "Clark St & Elm St",
          "Wells St & Concord Ln",
          "Kingsbury St & Kinzie St",
          "Wells St & Elm St",
          "Broadway & Barry Ave"
         ],
         "type": "scattermapbox"
        }
       ],
       "layout": {
        "coloraxis": {
         "colorbar": {
          "title": {
           "text": "num_trip"
          }
         },
         "colorscale": [
          [
           0,
           "rgb(253, 237, 176)"
          ],
          [
           0.09090909090909091,
           "rgb(250, 205, 145)"
          ],
          [
           0.18181818181818182,
           "rgb(246, 173, 119)"
          ],
          [
           0.2727272727272727,
           "rgb(240, 142, 98)"
          ],
          [
           0.36363636363636365,
           "rgb(231, 109, 84)"
          ],
          [
           0.45454545454545453,
           "rgb(216, 80, 83)"
          ],
          [
           0.5454545454545454,
           "rgb(195, 56, 90)"
          ],
          [
           0.6363636363636364,
           "rgb(168, 40, 96)"
          ],
          [
           0.7272727272727273,
           "rgb(138, 29, 99)"
          ],
          [
           0.8181818181818182,
           "rgb(107, 24, 93)"
          ],
          [
           0.9090909090909091,
           "rgb(76, 21, 80)"
          ],
          [
           1,
           "rgb(47, 15, 61)"
          ]
         ]
        },
        "height": 500,
        "legend": {
         "itemsizing": "constant",
         "tracegroupgap": 0
        },
        "mapbox": {
         "accesstoken": "pk.eyJ1IjoiaGFtaWJvIiwiYSI6ImNrN2N2Ym5uYTAybzEzb256cmk2NGtjeTUifQ.3qaqDjFrZdS3sqeoPeJG-w",
         "center": {
          "lat": 41.90901742971725,
          "lon": -87.63657271536464
         },
         "domain": {
          "x": [
           0,
           1
          ],
          "y": [
           0,
           1
          ]
         },
         "zoom": 11.5
        },
        "margin": {
         "b": 0,
         "l": 0,
         "r": 0,
         "t": 0
        },
        "template": {
         "data": {
          "bar": [
           {
            "error_x": {
             "color": "#2a3f5f"
            },
            "error_y": {
             "color": "#2a3f5f"
            },
            "marker": {
             "line": {
              "color": "#E5ECF6",
              "width": 0.5
             },
             "pattern": {
              "fillmode": "overlay",
              "size": 10,
              "solidity": 0.2
             }
            },
            "type": "bar"
           }
          ],
          "barpolar": [
           {
            "marker": {
             "line": {
              "color": "#E5ECF6",
              "width": 0.5
             },
             "pattern": {
              "fillmode": "overlay",
              "size": 10,
              "solidity": 0.2
             }
            },
            "type": "barpolar"
           }
          ],
          "carpet": [
           {
            "aaxis": {
             "endlinecolor": "#2a3f5f",
             "gridcolor": "white",
             "linecolor": "white",
             "minorgridcolor": "white",
             "startlinecolor": "#2a3f5f"
            },
            "baxis": {
             "endlinecolor": "#2a3f5f",
             "gridcolor": "white",
             "linecolor": "white",
             "minorgridcolor": "white",
             "startlinecolor": "#2a3f5f"
            },
            "type": "carpet"
           }
          ],
          "choropleth": [
           {
            "colorbar": {
             "outlinewidth": 0,
             "ticks": ""
            },
            "type": "choropleth"
           }
          ],
          "contour": [
           {
            "colorbar": {
             "outlinewidth": 0,
             "ticks": ""
            },
            "colorscale": [
             [
              0,
              "#0d0887"
             ],
             [
              0.1111111111111111,
              "#46039f"
             ],
             [
              0.2222222222222222,
              "#7201a8"
             ],
             [
              0.3333333333333333,
              "#9c179e"
             ],
             [
              0.4444444444444444,
              "#bd3786"
             ],
             [
              0.5555555555555556,
              "#d8576b"
             ],
             [
              0.6666666666666666,
              "#ed7953"
             ],
             [
              0.7777777777777778,
              "#fb9f3a"
             ],
             [
              0.8888888888888888,
              "#fdca26"
             ],
             [
              1,
              "#f0f921"
             ]
            ],
            "type": "contour"
           }
          ],
          "contourcarpet": [
           {
            "colorbar": {
             "outlinewidth": 0,
             "ticks": ""
            },
            "type": "contourcarpet"
           }
          ],
          "heatmap": [
           {
            "colorbar": {
             "outlinewidth": 0,
             "ticks": ""
            },
            "colorscale": [
             [
              0,
              "#0d0887"
             ],
             [
              0.1111111111111111,
              "#46039f"
             ],
             [
              0.2222222222222222,
              "#7201a8"
             ],
             [
              0.3333333333333333,
              "#9c179e"
             ],
             [
              0.4444444444444444,
              "#bd3786"
             ],
             [
              0.5555555555555556,
              "#d8576b"
             ],
             [
              0.6666666666666666,
              "#ed7953"
             ],
             [
              0.7777777777777778,
              "#fb9f3a"
             ],
             [
              0.8888888888888888,
              "#fdca26"
             ],
             [
              1,
              "#f0f921"
             ]
            ],
            "type": "heatmap"
           }
          ],
          "heatmapgl": [
           {
            "colorbar": {
             "outlinewidth": 0,
             "ticks": ""
            },
            "colorscale": [
             [
              0,
              "#0d0887"
             ],
             [
              0.1111111111111111,
              "#46039f"
             ],
             [
              0.2222222222222222,
              "#7201a8"
             ],
             [
              0.3333333333333333,
              "#9c179e"
             ],
             [
              0.4444444444444444,
              "#bd3786"
             ],
             [
              0.5555555555555556,
              "#d8576b"
             ],
             [
              0.6666666666666666,
              "#ed7953"
             ],
             [
              0.7777777777777778,
              "#fb9f3a"
             ],
             [
              0.8888888888888888,
              "#fdca26"
             ],
             [
              1,
              "#f0f921"
             ]
            ],
            "type": "heatmapgl"
           }
          ],
          "histogram": [
           {
            "marker": {
             "pattern": {
              "fillmode": "overlay",
              "size": 10,
              "solidity": 0.2
             }
            },
            "type": "histogram"
           }
          ],
          "histogram2d": [
           {
            "colorbar": {
             "outlinewidth": 0,
             "ticks": ""
            },
            "colorscale": [
             [
              0,
              "#0d0887"
             ],
             [
              0.1111111111111111,
              "#46039f"
             ],
             [
              0.2222222222222222,
              "#7201a8"
             ],
             [
              0.3333333333333333,
              "#9c179e"
             ],
             [
              0.4444444444444444,
              "#bd3786"
             ],
             [
              0.5555555555555556,
              "#d8576b"
             ],
             [
              0.6666666666666666,
              "#ed7953"
             ],
             [
              0.7777777777777778,
              "#fb9f3a"
             ],
             [
              0.8888888888888888,
              "#fdca26"
             ],
             [
              1,
              "#f0f921"
             ]
            ],
            "type": "histogram2d"
           }
          ],
          "histogram2dcontour": [
           {
            "colorbar": {
             "outlinewidth": 0,
             "ticks": ""
            },
            "colorscale": [
             [
              0,
              "#0d0887"
             ],
             [
              0.1111111111111111,
              "#46039f"
             ],
             [
              0.2222222222222222,
              "#7201a8"
             ],
             [
              0.3333333333333333,
              "#9c179e"
             ],
             [
              0.4444444444444444,
              "#bd3786"
             ],
             [
              0.5555555555555556,
              "#d8576b"
             ],
             [
              0.6666666666666666,
              "#ed7953"
             ],
             [
              0.7777777777777778,
              "#fb9f3a"
             ],
             [
              0.8888888888888888,
              "#fdca26"
             ],
             [
              1,
              "#f0f921"
             ]
            ],
            "type": "histogram2dcontour"
           }
          ],
          "mesh3d": [
           {
            "colorbar": {
             "outlinewidth": 0,
             "ticks": ""
            },
            "type": "mesh3d"
           }
          ],
          "parcoords": [
           {
            "line": {
             "colorbar": {
              "outlinewidth": 0,
              "ticks": ""
             }
            },
            "type": "parcoords"
           }
          ],
          "pie": [
           {
            "automargin": true,
            "type": "pie"
           }
          ],
          "scatter": [
           {
            "marker": {
             "colorbar": {
              "outlinewidth": 0,
              "ticks": ""
             }
            },
            "type": "scatter"
           }
          ],
          "scatter3d": [
           {
            "line": {
             "colorbar": {
              "outlinewidth": 0,
              "ticks": ""
             }
            },
            "marker": {
             "colorbar": {
              "outlinewidth": 0,
              "ticks": ""
             }
            },
            "type": "scatter3d"
           }
          ],
          "scattercarpet": [
           {
            "marker": {
             "colorbar": {
              "outlinewidth": 0,
              "ticks": ""
             }
            },
            "type": "scattercarpet"
           }
          ],
          "scattergeo": [
           {
            "marker": {
             "colorbar": {
              "outlinewidth": 0,
              "ticks": ""
             }
            },
            "type": "scattergeo"
           }
          ],
          "scattergl": [
           {
            "marker": {
             "colorbar": {
              "outlinewidth": 0,
              "ticks": ""
             }
            },
            "type": "scattergl"
           }
          ],
          "scattermapbox": [
           {
            "marker": {
             "colorbar": {
              "outlinewidth": 0,
              "ticks": ""
             }
            },
            "type": "scattermapbox"
           }
          ],
          "scatterpolar": [
           {
            "marker": {
             "colorbar": {
              "outlinewidth": 0,
              "ticks": ""
             }
            },
            "type": "scatterpolar"
           }
          ],
          "scatterpolargl": [
           {
            "marker": {
             "colorbar": {
              "outlinewidth": 0,
              "ticks": ""
             }
            },
            "type": "scatterpolargl"
           }
          ],
          "scatterternary": [
           {
            "marker": {
             "colorbar": {
              "outlinewidth": 0,
              "ticks": ""
             }
            },
            "type": "scatterternary"
           }
          ],
          "surface": [
           {
            "colorbar": {
             "outlinewidth": 0,
             "ticks": ""
            },
            "colorscale": [
             [
              0,
              "#0d0887"
             ],
             [
              0.1111111111111111,
              "#46039f"
             ],
             [
              0.2222222222222222,
              "#7201a8"
             ],
             [
              0.3333333333333333,
              "#9c179e"
             ],
             [
              0.4444444444444444,
              "#bd3786"
             ],
             [
              0.5555555555555556,
              "#d8576b"
             ],
             [
              0.6666666666666666,
              "#ed7953"
             ],
             [
              0.7777777777777778,
              "#fb9f3a"
             ],
             [
              0.8888888888888888,
              "#fdca26"
             ],
             [
              1,
              "#f0f921"
             ]
            ],
            "type": "surface"
           }
          ],
          "table": [
           {
            "cells": {
             "fill": {
              "color": "#EBF0F8"
             },
             "line": {
              "color": "white"
             }
            },
            "header": {
             "fill": {
              "color": "#C8D4E3"
             },
             "line": {
              "color": "white"
             }
            },
            "type": "table"
           }
          ]
         },
         "layout": {
          "annotationdefaults": {
           "arrowcolor": "#2a3f5f",
           "arrowhead": 0,
           "arrowwidth": 1
          },
          "autotypenumbers": "strict",
          "coloraxis": {
           "colorbar": {
            "outlinewidth": 0,
            "ticks": ""
           }
          },
          "colorscale": {
           "diverging": [
            [
             0,
             "#8e0152"
            ],
            [
             0.1,
             "#c51b7d"
            ],
            [
             0.2,
             "#de77ae"
            ],
            [
             0.3,
             "#f1b6da"
            ],
            [
             0.4,
             "#fde0ef"
            ],
            [
             0.5,
             "#f7f7f7"
            ],
            [
             0.6,
             "#e6f5d0"
            ],
            [
             0.7,
             "#b8e186"
            ],
            [
             0.8,
             "#7fbc41"
            ],
            [
             0.9,
             "#4d9221"
            ],
            [
             1,
             "#276419"
            ]
           ],
           "sequential": [
            [
             0,
             "#0d0887"
            ],
            [
             0.1111111111111111,
             "#46039f"
            ],
            [
             0.2222222222222222,
             "#7201a8"
            ],
            [
             0.3333333333333333,
             "#9c179e"
            ],
            [
             0.4444444444444444,
             "#bd3786"
            ],
            [
             0.5555555555555556,
             "#d8576b"
            ],
            [
             0.6666666666666666,
             "#ed7953"
            ],
            [
             0.7777777777777778,
             "#fb9f3a"
            ],
            [
             0.8888888888888888,
             "#fdca26"
            ],
            [
             1,
             "#f0f921"
            ]
           ],
           "sequentialminus": [
            [
             0,
             "#0d0887"
            ],
            [
             0.1111111111111111,
             "#46039f"
            ],
            [
             0.2222222222222222,
             "#7201a8"
            ],
            [
             0.3333333333333333,
             "#9c179e"
            ],
            [
             0.4444444444444444,
             "#bd3786"
            ],
            [
             0.5555555555555556,
             "#d8576b"
            ],
            [
             0.6666666666666666,
             "#ed7953"
            ],
            [
             0.7777777777777778,
             "#fb9f3a"
            ],
            [
             0.8888888888888888,
             "#fdca26"
            ],
            [
             1,
             "#f0f921"
            ]
           ]
          },
          "colorway": [
           "#636efa",
           "#EF553B",
           "#00cc96",
           "#ab63fa",
           "#FFA15A",
           "#19d3f3",
           "#FF6692",
           "#B6E880",
           "#FF97FF",
           "#FECB52"
          ],
          "font": {
           "color": "#2a3f5f"
          },
          "geo": {
           "bgcolor": "white",
           "lakecolor": "white",
           "landcolor": "#E5ECF6",
           "showlakes": true,
           "showland": true,
           "subunitcolor": "white"
          },
          "hoverlabel": {
           "align": "left"
          },
          "hovermode": "closest",
          "mapbox": {
           "style": "light"
          },
          "paper_bgcolor": "white",
          "plot_bgcolor": "#E5ECF6",
          "polar": {
           "angularaxis": {
            "gridcolor": "white",
            "linecolor": "white",
            "ticks": ""
           },
           "bgcolor": "#E5ECF6",
           "radialaxis": {
            "gridcolor": "white",
            "linecolor": "white",
            "ticks": ""
           }
          },
          "scene": {
           "xaxis": {
            "backgroundcolor": "#E5ECF6",
            "gridcolor": "white",
            "gridwidth": 2,
            "linecolor": "white",
            "showbackground": true,
            "ticks": "",
            "zerolinecolor": "white"
           },
           "yaxis": {
            "backgroundcolor": "#E5ECF6",
            "gridcolor": "white",
            "gridwidth": 2,
            "linecolor": "white",
            "showbackground": true,
            "ticks": "",
            "zerolinecolor": "white"
           },
           "zaxis": {
            "backgroundcolor": "#E5ECF6",
            "gridcolor": "white",
            "gridwidth": 2,
            "linecolor": "white",
            "showbackground": true,
            "ticks": "",
            "zerolinecolor": "white"
           }
          },
          "shapedefaults": {
           "line": {
            "color": "#2a3f5f"
           }
          },
          "ternary": {
           "aaxis": {
            "gridcolor": "white",
            "linecolor": "white",
            "ticks": ""
           },
           "baxis": {
            "gridcolor": "white",
            "linecolor": "white",
            "ticks": ""
           },
           "bgcolor": "#E5ECF6",
           "caxis": {
            "gridcolor": "white",
            "linecolor": "white",
            "ticks": ""
           }
          },
          "title": {
           "x": 0.05
          },
          "xaxis": {
           "automargin": true,
           "gridcolor": "white",
           "linecolor": "white",
           "ticks": "",
           "title": {
            "standoff": 15
           },
           "zerolinecolor": "white",
           "zerolinewidth": 2
          },
          "yaxis": {
           "automargin": true,
           "gridcolor": "white",
           "linecolor": "white",
           "ticks": "",
           "title": {
            "standoff": 15
           },
           "zerolinecolor": "white",
           "zerolinewidth": 2
          }
         }
        },
        "width": 600
       }
      }
     },
     "metadata": {},
     "output_type": "display_data"
    }
   ],
   "source": [
    "#Geolocation Top 5 start station used by members\n",
    "mapbox_access_token = 'pk.eyJ1IjoiaGFtaWJvIiwiYSI6ImNrN2N2Ym5uYTAybzEzb256cmk2NGtjeTUifQ.3qaqDjFrZdS3sqeoPeJG-w'\n",
    "px.set_mapbox_access_token(mapbox_access_token)\n",
    "fig1= px.scatter_mapbox(mem_start_station_top5, color='num_trip', \n",
    "                    color_continuous_scale=px.colors.sequential.matter,\n",
    "                    lat ='start_lat', lon= 'start_lng', size ='num_trip',\n",
    "                    zoom=11.5, opacity=0.5, text='start_station_name')\n",
    "fig1.update_layout(margin={\"r\":0,\"t\":0,\"l\":0,\"b\":0}, height=500, width=600)\n",
    "fig1.show()"
   ]
  },
  {
   "cell_type": "markdown",
   "metadata": {},
   "source": [
    "# ![title](top5memstation.png)"
   ]
  },
  {
   "cell_type": "code",
   "execution_count": null,
   "metadata": {},
   "outputs": [
    {
     "data": {
      "application/vnd.plotly.v1+json": {
       "config": {
        "plotlyServerURL": "https://plot.ly"
       },
       "data": [
        {
         "hovertemplate": "num_trip=%{marker.color}<br>start_station_name=%{text}<br>start_lat=%{lat}<br>start_lng=%{lon}<extra></extra>",
         "lat": [
          41.892278,
          41.926277,
          41.880958,
          41.8810317,
          41.90096039
         ],
         "legendgroup": "",
         "lon": [
          -87.612043,
          -87.630834,
          -87.616743,
          -87.62408432,
          -87.62377664
         ],
         "marker": {
          "color": [
           56933,
           18526,
           18401,
           18205,
           17700
          ],
          "coloraxis": "coloraxis",
          "opacity": 0.5,
          "size": [
           56933,
           18526,
           18401,
           18205,
           17700
          ],
          "sizemode": "area",
          "sizeref": 142.3325
         },
         "mode": "markers+text",
         "name": "",
         "showlegend": false,
         "subplot": "mapbox",
         "text": [
          "Streeter Dr & Grand Ave",
          "Theater on the Lake",
          "Lake Shore Dr & Monroe St",
          "Millennium Park",
          "Michigan Ave & Oak St"
         ],
         "type": "scattermapbox"
        }
       ],
       "layout": {
        "coloraxis": {
         "colorbar": {
          "title": {
           "text": "num_trip"
          }
         },
         "colorscale": [
          [
           0,
           "rgb(253, 237, 176)"
          ],
          [
           0.09090909090909091,
           "rgb(250, 205, 145)"
          ],
          [
           0.18181818181818182,
           "rgb(246, 173, 119)"
          ],
          [
           0.2727272727272727,
           "rgb(240, 142, 98)"
          ],
          [
           0.36363636363636365,
           "rgb(231, 109, 84)"
          ],
          [
           0.45454545454545453,
           "rgb(216, 80, 83)"
          ],
          [
           0.5454545454545454,
           "rgb(195, 56, 90)"
          ],
          [
           0.6363636363636364,
           "rgb(168, 40, 96)"
          ],
          [
           0.7272727272727273,
           "rgb(138, 29, 99)"
          ],
          [
           0.8181818181818182,
           "rgb(107, 24, 93)"
          ],
          [
           0.9090909090909091,
           "rgb(76, 21, 80)"
          ],
          [
           1,
           "rgb(47, 15, 61)"
          ]
         ]
        },
        "height": 500,
        "legend": {
         "itemsizing": "constant",
         "tracegroupgap": 0
        },
        "mapbox": {
         "accesstoken": "pk.eyJ1IjoiaGFtaWJvIiwiYSI6ImNrN2N2Ym5uYTAybzEzb256cmk2NGtjeTUifQ.3qaqDjFrZdS3sqeoPeJG-w",
         "center": {
          "lat": 41.896301017999996,
          "lon": -87.62149619200001
         },
         "domain": {
          "x": [
           0,
           1
          ],
          "y": [
           0,
           1
          ]
         },
         "zoom": 12
        },
        "margin": {
         "b": 0,
         "l": 0,
         "r": 0,
         "t": 0
        },
        "template": {
         "data": {
          "bar": [
           {
            "error_x": {
             "color": "#2a3f5f"
            },
            "error_y": {
             "color": "#2a3f5f"
            },
            "marker": {
             "line": {
              "color": "#E5ECF6",
              "width": 0.5
             },
             "pattern": {
              "fillmode": "overlay",
              "size": 10,
              "solidity": 0.2
             }
            },
            "type": "bar"
           }
          ],
          "barpolar": [
           {
            "marker": {
             "line": {
              "color": "#E5ECF6",
              "width": 0.5
             },
             "pattern": {
              "fillmode": "overlay",
              "size": 10,
              "solidity": 0.2
             }
            },
            "type": "barpolar"
           }
          ],
          "carpet": [
           {
            "aaxis": {
             "endlinecolor": "#2a3f5f",
             "gridcolor": "white",
             "linecolor": "white",
             "minorgridcolor": "white",
             "startlinecolor": "#2a3f5f"
            },
            "baxis": {
             "endlinecolor": "#2a3f5f",
             "gridcolor": "white",
             "linecolor": "white",
             "minorgridcolor": "white",
             "startlinecolor": "#2a3f5f"
            },
            "type": "carpet"
           }
          ],
          "choropleth": [
           {
            "colorbar": {
             "outlinewidth": 0,
             "ticks": ""
            },
            "type": "choropleth"
           }
          ],
          "contour": [
           {
            "colorbar": {
             "outlinewidth": 0,
             "ticks": ""
            },
            "colorscale": [
             [
              0,
              "#0d0887"
             ],
             [
              0.1111111111111111,
              "#46039f"
             ],
             [
              0.2222222222222222,
              "#7201a8"
             ],
             [
              0.3333333333333333,
              "#9c179e"
             ],
             [
              0.4444444444444444,
              "#bd3786"
             ],
             [
              0.5555555555555556,
              "#d8576b"
             ],
             [
              0.6666666666666666,
              "#ed7953"
             ],
             [
              0.7777777777777778,
              "#fb9f3a"
             ],
             [
              0.8888888888888888,
              "#fdca26"
             ],
             [
              1,
              "#f0f921"
             ]
            ],
            "type": "contour"
           }
          ],
          "contourcarpet": [
           {
            "colorbar": {
             "outlinewidth": 0,
             "ticks": ""
            },
            "type": "contourcarpet"
           }
          ],
          "heatmap": [
           {
            "colorbar": {
             "outlinewidth": 0,
             "ticks": ""
            },
            "colorscale": [
             [
              0,
              "#0d0887"
             ],
             [
              0.1111111111111111,
              "#46039f"
             ],
             [
              0.2222222222222222,
              "#7201a8"
             ],
             [
              0.3333333333333333,
              "#9c179e"
             ],
             [
              0.4444444444444444,
              "#bd3786"
             ],
             [
              0.5555555555555556,
              "#d8576b"
             ],
             [
              0.6666666666666666,
              "#ed7953"
             ],
             [
              0.7777777777777778,
              "#fb9f3a"
             ],
             [
              0.8888888888888888,
              "#fdca26"
             ],
             [
              1,
              "#f0f921"
             ]
            ],
            "type": "heatmap"
           }
          ],
          "heatmapgl": [
           {
            "colorbar": {
             "outlinewidth": 0,
             "ticks": ""
            },
            "colorscale": [
             [
              0,
              "#0d0887"
             ],
             [
              0.1111111111111111,
              "#46039f"
             ],
             [
              0.2222222222222222,
              "#7201a8"
             ],
             [
              0.3333333333333333,
              "#9c179e"
             ],
             [
              0.4444444444444444,
              "#bd3786"
             ],
             [
              0.5555555555555556,
              "#d8576b"
             ],
             [
              0.6666666666666666,
              "#ed7953"
             ],
             [
              0.7777777777777778,
              "#fb9f3a"
             ],
             [
              0.8888888888888888,
              "#fdca26"
             ],
             [
              1,
              "#f0f921"
             ]
            ],
            "type": "heatmapgl"
           }
          ],
          "histogram": [
           {
            "marker": {
             "pattern": {
              "fillmode": "overlay",
              "size": 10,
              "solidity": 0.2
             }
            },
            "type": "histogram"
           }
          ],
          "histogram2d": [
           {
            "colorbar": {
             "outlinewidth": 0,
             "ticks": ""
            },
            "colorscale": [
             [
              0,
              "#0d0887"
             ],
             [
              0.1111111111111111,
              "#46039f"
             ],
             [
              0.2222222222222222,
              "#7201a8"
             ],
             [
              0.3333333333333333,
              "#9c179e"
             ],
             [
              0.4444444444444444,
              "#bd3786"
             ],
             [
              0.5555555555555556,
              "#d8576b"
             ],
             [
              0.6666666666666666,
              "#ed7953"
             ],
             [
              0.7777777777777778,
              "#fb9f3a"
             ],
             [
              0.8888888888888888,
              "#fdca26"
             ],
             [
              1,
              "#f0f921"
             ]
            ],
            "type": "histogram2d"
           }
          ],
          "histogram2dcontour": [
           {
            "colorbar": {
             "outlinewidth": 0,
             "ticks": ""
            },
            "colorscale": [
             [
              0,
              "#0d0887"
             ],
             [
              0.1111111111111111,
              "#46039f"
             ],
             [
              0.2222222222222222,
              "#7201a8"
             ],
             [
              0.3333333333333333,
              "#9c179e"
             ],
             [
              0.4444444444444444,
              "#bd3786"
             ],
             [
              0.5555555555555556,
              "#d8576b"
             ],
             [
              0.6666666666666666,
              "#ed7953"
             ],
             [
              0.7777777777777778,
              "#fb9f3a"
             ],
             [
              0.8888888888888888,
              "#fdca26"
             ],
             [
              1,
              "#f0f921"
             ]
            ],
            "type": "histogram2dcontour"
           }
          ],
          "mesh3d": [
           {
            "colorbar": {
             "outlinewidth": 0,
             "ticks": ""
            },
            "type": "mesh3d"
           }
          ],
          "parcoords": [
           {
            "line": {
             "colorbar": {
              "outlinewidth": 0,
              "ticks": ""
             }
            },
            "type": "parcoords"
           }
          ],
          "pie": [
           {
            "automargin": true,
            "type": "pie"
           }
          ],
          "scatter": [
           {
            "marker": {
             "colorbar": {
              "outlinewidth": 0,
              "ticks": ""
             }
            },
            "type": "scatter"
           }
          ],
          "scatter3d": [
           {
            "line": {
             "colorbar": {
              "outlinewidth": 0,
              "ticks": ""
             }
            },
            "marker": {
             "colorbar": {
              "outlinewidth": 0,
              "ticks": ""
             }
            },
            "type": "scatter3d"
           }
          ],
          "scattercarpet": [
           {
            "marker": {
             "colorbar": {
              "outlinewidth": 0,
              "ticks": ""
             }
            },
            "type": "scattercarpet"
           }
          ],
          "scattergeo": [
           {
            "marker": {
             "colorbar": {
              "outlinewidth": 0,
              "ticks": ""
             }
            },
            "type": "scattergeo"
           }
          ],
          "scattergl": [
           {
            "marker": {
             "colorbar": {
              "outlinewidth": 0,
              "ticks": ""
             }
            },
            "type": "scattergl"
           }
          ],
          "scattermapbox": [
           {
            "marker": {
             "colorbar": {
              "outlinewidth": 0,
              "ticks": ""
             }
            },
            "type": "scattermapbox"
           }
          ],
          "scatterpolar": [
           {
            "marker": {
             "colorbar": {
              "outlinewidth": 0,
              "ticks": ""
             }
            },
            "type": "scatterpolar"
           }
          ],
          "scatterpolargl": [
           {
            "marker": {
             "colorbar": {
              "outlinewidth": 0,
              "ticks": ""
             }
            },
            "type": "scatterpolargl"
           }
          ],
          "scatterternary": [
           {
            "marker": {
             "colorbar": {
              "outlinewidth": 0,
              "ticks": ""
             }
            },
            "type": "scatterternary"
           }
          ],
          "surface": [
           {
            "colorbar": {
             "outlinewidth": 0,
             "ticks": ""
            },
            "colorscale": [
             [
              0,
              "#0d0887"
             ],
             [
              0.1111111111111111,
              "#46039f"
             ],
             [
              0.2222222222222222,
              "#7201a8"
             ],
             [
              0.3333333333333333,
              "#9c179e"
             ],
             [
              0.4444444444444444,
              "#bd3786"
             ],
             [
              0.5555555555555556,
              "#d8576b"
             ],
             [
              0.6666666666666666,
              "#ed7953"
             ],
             [
              0.7777777777777778,
              "#fb9f3a"
             ],
             [
              0.8888888888888888,
              "#fdca26"
             ],
             [
              1,
              "#f0f921"
             ]
            ],
            "type": "surface"
           }
          ],
          "table": [
           {
            "cells": {
             "fill": {
              "color": "#EBF0F8"
             },
             "line": {
              "color": "white"
             }
            },
            "header": {
             "fill": {
              "color": "#C8D4E3"
             },
             "line": {
              "color": "white"
             }
            },
            "type": "table"
           }
          ]
         },
         "layout": {
          "annotationdefaults": {
           "arrowcolor": "#2a3f5f",
           "arrowhead": 0,
           "arrowwidth": 1
          },
          "autotypenumbers": "strict",
          "coloraxis": {
           "colorbar": {
            "outlinewidth": 0,
            "ticks": ""
           }
          },
          "colorscale": {
           "diverging": [
            [
             0,
             "#8e0152"
            ],
            [
             0.1,
             "#c51b7d"
            ],
            [
             0.2,
             "#de77ae"
            ],
            [
             0.3,
             "#f1b6da"
            ],
            [
             0.4,
             "#fde0ef"
            ],
            [
             0.5,
             "#f7f7f7"
            ],
            [
             0.6,
             "#e6f5d0"
            ],
            [
             0.7,
             "#b8e186"
            ],
            [
             0.8,
             "#7fbc41"
            ],
            [
             0.9,
             "#4d9221"
            ],
            [
             1,
             "#276419"
            ]
           ],
           "sequential": [
            [
             0,
             "#0d0887"
            ],
            [
             0.1111111111111111,
             "#46039f"
            ],
            [
             0.2222222222222222,
             "#7201a8"
            ],
            [
             0.3333333333333333,
             "#9c179e"
            ],
            [
             0.4444444444444444,
             "#bd3786"
            ],
            [
             0.5555555555555556,
             "#d8576b"
            ],
            [
             0.6666666666666666,
             "#ed7953"
            ],
            [
             0.7777777777777778,
             "#fb9f3a"
            ],
            [
             0.8888888888888888,
             "#fdca26"
            ],
            [
             1,
             "#f0f921"
            ]
           ],
           "sequentialminus": [
            [
             0,
             "#0d0887"
            ],
            [
             0.1111111111111111,
             "#46039f"
            ],
            [
             0.2222222222222222,
             "#7201a8"
            ],
            [
             0.3333333333333333,
             "#9c179e"
            ],
            [
             0.4444444444444444,
             "#bd3786"
            ],
            [
             0.5555555555555556,
             "#d8576b"
            ],
            [
             0.6666666666666666,
             "#ed7953"
            ],
            [
             0.7777777777777778,
             "#fb9f3a"
            ],
            [
             0.8888888888888888,
             "#fdca26"
            ],
            [
             1,
             "#f0f921"
            ]
           ]
          },
          "colorway": [
           "#636efa",
           "#EF553B",
           "#00cc96",
           "#ab63fa",
           "#FFA15A",
           "#19d3f3",
           "#FF6692",
           "#B6E880",
           "#FF97FF",
           "#FECB52"
          ],
          "font": {
           "color": "#2a3f5f"
          },
          "geo": {
           "bgcolor": "white",
           "lakecolor": "white",
           "landcolor": "#E5ECF6",
           "showlakes": true,
           "showland": true,
           "subunitcolor": "white"
          },
          "hoverlabel": {
           "align": "left"
          },
          "hovermode": "closest",
          "mapbox": {
           "style": "light"
          },
          "paper_bgcolor": "white",
          "plot_bgcolor": "#E5ECF6",
          "polar": {
           "angularaxis": {
            "gridcolor": "white",
            "linecolor": "white",
            "ticks": ""
           },
           "bgcolor": "#E5ECF6",
           "radialaxis": {
            "gridcolor": "white",
            "linecolor": "white",
            "ticks": ""
           }
          },
          "scene": {
           "xaxis": {
            "backgroundcolor": "#E5ECF6",
            "gridcolor": "white",
            "gridwidth": 2,
            "linecolor": "white",
            "showbackground": true,
            "ticks": "",
            "zerolinecolor": "white"
           },
           "yaxis": {
            "backgroundcolor": "#E5ECF6",
            "gridcolor": "white",
            "gridwidth": 2,
            "linecolor": "white",
            "showbackground": true,
            "ticks": "",
            "zerolinecolor": "white"
           },
           "zaxis": {
            "backgroundcolor": "#E5ECF6",
            "gridcolor": "white",
            "gridwidth": 2,
            "linecolor": "white",
            "showbackground": true,
            "ticks": "",
            "zerolinecolor": "white"
           }
          },
          "shapedefaults": {
           "line": {
            "color": "#2a3f5f"
           }
          },
          "ternary": {
           "aaxis": {
            "gridcolor": "white",
            "linecolor": "white",
            "ticks": ""
           },
           "baxis": {
            "gridcolor": "white",
            "linecolor": "white",
            "ticks": ""
           },
           "bgcolor": "#E5ECF6",
           "caxis": {
            "gridcolor": "white",
            "linecolor": "white",
            "ticks": ""
           }
          },
          "title": {
           "x": 0.05
          },
          "xaxis": {
           "automargin": true,
           "gridcolor": "white",
           "linecolor": "white",
           "ticks": "",
           "title": {
            "standoff": 15
           },
           "zerolinecolor": "white",
           "zerolinewidth": 2
          },
          "yaxis": {
           "automargin": true,
           "gridcolor": "white",
           "linecolor": "white",
           "ticks": "",
           "title": {
            "standoff": 15
           },
           "zerolinecolor": "white",
           "zerolinewidth": 2
          }
         }
        },
        "width": 600
       }
      }
     },
     "metadata": {},
     "output_type": "display_data"
    }
   ],
   "source": [
    "#Geolocation Top 5 start station used by casual users\n",
    "mapbox_access_token = 'pk.eyJ1IjoiaGFtaWJvIiwiYSI6ImNrN2N2Ym5uYTAybzEzb256cmk2NGtjeTUifQ.3qaqDjFrZdS3sqeoPeJG-w'\n",
    "px.set_mapbox_access_token(mapbox_access_token)\n",
    "fig2= (px.scatter_mapbox(cas_start_station_top5, color='num_trip',\n",
    "                        color_continuous_scale=px.colors.sequential.matter,\n",
    "                        lat ='start_lat', lon= 'start_lng', size ='num_trip',\n",
    "                        zoom=12, opacity=0.5, text='start_station_name'))\n",
    "\n",
    "fig2.update_layout(margin={\"r\":0,\"t\":0,\"l\":0,\"b\":0},height=500, width=600)\n",
    "fig2.show()"
   ]
  },
  {
   "cell_type": "markdown",
   "metadata": {},
   "source": [
    "# ![title](top5casualstation.png)"
   ]
  },
  {
   "cell_type": "markdown",
   "metadata": {},
   "source": [
    "Act:\n",
    "1. Casual riders tend to use the service more during the weekends, therefore maybe a promotion through Facebook, Google, Tiktok,... to attract them to use service more on weekdays would be reasonable.\n",
    "2. Casual riders are likely to ride more in summer and autumn time so the promotion during this time would be more effective.\n",
    "3. Top 5 start stations used by casual riders are all riverside, advertisements along river would appeal the riders.\n",
    "4. Docked and electric bikes are the most common bike types to casual riders. It is more productive to focus on these types of transport. \n"
   ]
  }
 ],
 "metadata": {
  "interpreter": {
   "hash": "9bf2ca0f4a7adc3ce2f237ca763c1538d3ef289a4e7face3612a01cdae9f6807"
  },
  "kernelspec": {
   "display_name": "Python 3.10.1 64-bit",
   "language": "python",
   "name": "python3"
  },
  "language_info": {
   "codemirror_mode": {
    "name": "ipython",
    "version": 3
   },
   "file_extension": ".py",
   "mimetype": "text/x-python",
   "name": "python",
   "nbconvert_exporter": "python",
   "pygments_lexer": "ipython3",
   "version": "3.10.1"
  },
  "orig_nbformat": 4
 },
 "nbformat": 4,
 "nbformat_minor": 2
}
